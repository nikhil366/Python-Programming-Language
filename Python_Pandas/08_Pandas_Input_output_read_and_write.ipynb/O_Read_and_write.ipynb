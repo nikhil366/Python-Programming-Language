{
 "metadata": {
  "language_info": {
   "codemirror_mode": {
    "name": "ipython",
    "version": 3
   },
   "file_extension": ".py",
   "mimetype": "text/x-python",
   "name": "python",
   "nbconvert_exporter": "python",
   "pygments_lexer": "ipython3",
   "version": "3.8.5-final"
  },
  "orig_nbformat": 2,
  "kernelspec": {
   "name": "python3",
   "display_name": "Python 3",
   "language": "python"
  }
 },
 "nbformat": 4,
 "nbformat_minor": 2,
 "cells": [
  {
   "source": [
    "## Data Input and Output\n",
    "This notebook is the reference code for getting input and output, pandas can read a variety of file types using its pd.read_ methods. Let's take a look at the most common data types:\n",
    "\n",
    "1. CSV\n",
    "2. Excel\n",
    "3. HTML\n",
    "4. SQL"
   ],
   "cell_type": "code",
   "metadata": {},
   "execution_count": null,
   "outputs": []
  },
  {
   "cell_type": "code",
   "execution_count": 2,
   "metadata": {},
   "outputs": [],
   "source": [
    "import pandas as pd"
   ]
  },
  {
   "cell_type": "code",
   "execution_count": 3,
   "metadata": {},
   "outputs": [
    {
     "output_type": "execute_result",
     "data": {
      "text/plain": [
       "    1   Eldon Base for stackable storage shelf, platinum Muhammed MacIntyre  \\\n",
       "0   2  1.7 Cubic Foot Compact \"Cube\" Office Refrigera...       Barry French   \n",
       "1   3   Cardinal Slant-D� Ring Binder, Heavy Gauge Vinyl       Barry French   \n",
       "2   4                                               R380      Clay Rozendal   \n",
       "3   5                           Holmes HEPA Air Purifier     Carlos Soltero   \n",
       "4   6  G.E. Longer-Life Indoor Recessed Floodlight Bulbs     Carlos Soltero   \n",
       "5   7  Angle-D Binders with Locking Rings, Label Holders       Carl Jackson   \n",
       "6   8            SAFCO Mobile Desk Side File, Wire Frame       Carl Jackson   \n",
       "7   9              SAFCO Commercial Wire Shelving, Black     Monica Federle   \n",
       "8  10                                          Xerox 198    Dorothy Badders   \n",
       "\n",
       "     3  -213.25   38.94     35  Nunavut          Storage & Organization   0.8  \n",
       "0  293   457.81  208.16  68.02  Nunavut                      Appliances  0.58  \n",
       "1  293    46.71    8.69   2.99  Nunavut  Binders and Binder Accessories  0.39  \n",
       "2  483  1198.97  195.99   3.99  Nunavut    Telephones and Communication  0.58  \n",
       "3  515    30.94   21.78   5.94  Nunavut                      Appliances  0.50  \n",
       "4  515     4.43    6.64   4.95  Nunavut              Office Furnishings  0.37  \n",
       "5  613   -54.04    7.30   7.72  Nunavut  Binders and Binder Accessories  0.38  \n",
       "6  613   127.70   42.76   6.22  Nunavut          Storage & Organization   NaN  \n",
       "7  643  -695.26  138.14  35.00  Nunavut          Storage & Organization   NaN  \n",
       "8  678  -226.36    4.98   8.33  Nunavut                           Paper  0.38  "
      ],
      "text/html": "<div>\n<style scoped>\n    .dataframe tbody tr th:only-of-type {\n        vertical-align: middle;\n    }\n\n    .dataframe tbody tr th {\n        vertical-align: top;\n    }\n\n    .dataframe thead th {\n        text-align: right;\n    }\n</style>\n<table border=\"1\" class=\"dataframe\">\n  <thead>\n    <tr style=\"text-align: right;\">\n      <th></th>\n      <th>1</th>\n      <th>Eldon Base for stackable storage shelf, platinum</th>\n      <th>Muhammed MacIntyre</th>\n      <th>3</th>\n      <th>-213.25</th>\n      <th>38.94</th>\n      <th>35</th>\n      <th>Nunavut</th>\n      <th>Storage &amp; Organization</th>\n      <th>0.8</th>\n    </tr>\n  </thead>\n  <tbody>\n    <tr>\n      <th>0</th>\n      <td>2</td>\n      <td>1.7 Cubic Foot Compact \"Cube\" Office Refrigera...</td>\n      <td>Barry French</td>\n      <td>293</td>\n      <td>457.81</td>\n      <td>208.16</td>\n      <td>68.02</td>\n      <td>Nunavut</td>\n      <td>Appliances</td>\n      <td>0.58</td>\n    </tr>\n    <tr>\n      <th>1</th>\n      <td>3</td>\n      <td>Cardinal Slant-D� Ring Binder, Heavy Gauge Vinyl</td>\n      <td>Barry French</td>\n      <td>293</td>\n      <td>46.71</td>\n      <td>8.69</td>\n      <td>2.99</td>\n      <td>Nunavut</td>\n      <td>Binders and Binder Accessories</td>\n      <td>0.39</td>\n    </tr>\n    <tr>\n      <th>2</th>\n      <td>4</td>\n      <td>R380</td>\n      <td>Clay Rozendal</td>\n      <td>483</td>\n      <td>1198.97</td>\n      <td>195.99</td>\n      <td>3.99</td>\n      <td>Nunavut</td>\n      <td>Telephones and Communication</td>\n      <td>0.58</td>\n    </tr>\n    <tr>\n      <th>3</th>\n      <td>5</td>\n      <td>Holmes HEPA Air Purifier</td>\n      <td>Carlos Soltero</td>\n      <td>515</td>\n      <td>30.94</td>\n      <td>21.78</td>\n      <td>5.94</td>\n      <td>Nunavut</td>\n      <td>Appliances</td>\n      <td>0.50</td>\n    </tr>\n    <tr>\n      <th>4</th>\n      <td>6</td>\n      <td>G.E. Longer-Life Indoor Recessed Floodlight Bulbs</td>\n      <td>Carlos Soltero</td>\n      <td>515</td>\n      <td>4.43</td>\n      <td>6.64</td>\n      <td>4.95</td>\n      <td>Nunavut</td>\n      <td>Office Furnishings</td>\n      <td>0.37</td>\n    </tr>\n    <tr>\n      <th>5</th>\n      <td>7</td>\n      <td>Angle-D Binders with Locking Rings, Label Holders</td>\n      <td>Carl Jackson</td>\n      <td>613</td>\n      <td>-54.04</td>\n      <td>7.30</td>\n      <td>7.72</td>\n      <td>Nunavut</td>\n      <td>Binders and Binder Accessories</td>\n      <td>0.38</td>\n    </tr>\n    <tr>\n      <th>6</th>\n      <td>8</td>\n      <td>SAFCO Mobile Desk Side File, Wire Frame</td>\n      <td>Carl Jackson</td>\n      <td>613</td>\n      <td>127.70</td>\n      <td>42.76</td>\n      <td>6.22</td>\n      <td>Nunavut</td>\n      <td>Storage &amp; Organization</td>\n      <td>NaN</td>\n    </tr>\n    <tr>\n      <th>7</th>\n      <td>9</td>\n      <td>SAFCO Commercial Wire Shelving, Black</td>\n      <td>Monica Federle</td>\n      <td>643</td>\n      <td>-695.26</td>\n      <td>138.14</td>\n      <td>35.00</td>\n      <td>Nunavut</td>\n      <td>Storage &amp; Organization</td>\n      <td>NaN</td>\n    </tr>\n    <tr>\n      <th>8</th>\n      <td>10</td>\n      <td>Xerox 198</td>\n      <td>Dorothy Badders</td>\n      <td>678</td>\n      <td>-226.36</td>\n      <td>4.98</td>\n      <td>8.33</td>\n      <td>Nunavut</td>\n      <td>Paper</td>\n      <td>0.38</td>\n    </tr>\n  </tbody>\n</table>\n</div>"
     },
     "metadata": {},
     "execution_count": 3
    }
   ],
   "source": [
    "pd.read_csv('sample.csv')"
   ]
  },
  {
   "source": [
    "to read any file from system we can use pd.read_  (lots of example will show)"
   ],
   "cell_type": "markdown",
   "metadata": {}
  },
  {
   "cell_type": "code",
   "execution_count": null,
   "metadata": {},
   "outputs": [],
   "source": []
  }
 ]
}