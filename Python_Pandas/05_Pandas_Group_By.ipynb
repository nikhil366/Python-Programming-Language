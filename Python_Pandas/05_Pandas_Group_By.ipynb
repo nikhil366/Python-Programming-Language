{
 "metadata": {
  "language_info": {
   "codemirror_mode": {
    "name": "ipython",
    "version": 3
   },
   "file_extension": ".py",
   "mimetype": "text/x-python",
   "name": "python",
   "nbconvert_exporter": "python",
   "pygments_lexer": "ipython3",
   "version": "3.8.5-final"
  },
  "orig_nbformat": 2,
  "kernelspec": {
   "name": "python38564bitvenv41bdb99f38a645489d4f979c146cb5ca",
   "display_name": "Python 3.8.5 64-bit ('venv')",
   "language": "python"
  }
 },
 "nbformat": 4,
 "nbformat_minor": 2,
 "cells": [
  {
   "cell_type": "code",
   "execution_count": 2,
   "metadata": {},
   "outputs": [
    {
     "output_type": "execute_result",
     "data": {
      "text/plain": [
       "  Company Employee  Salary\n",
       "0    goog      sam     500\n",
       "1  mcrsft      nam     800\n",
       "2      Fb      qam    4500\n",
       "3    goog      wam    2200\n",
       "4      Fb     asam    2222\n",
       "5  mcrsft     ndam    7899\n",
       "6    goog     qgam    2100\n",
       "7  mcrsft      ham    3222\n",
       "8      Fb    niiik    9899"
      ],
      "text/html": "<div>\n<style scoped>\n    .dataframe tbody tr th:only-of-type {\n        vertical-align: middle;\n    }\n\n    .dataframe tbody tr th {\n        vertical-align: top;\n    }\n\n    .dataframe thead th {\n        text-align: right;\n    }\n</style>\n<table border=\"1\" class=\"dataframe\">\n  <thead>\n    <tr style=\"text-align: right;\">\n      <th></th>\n      <th>Company</th>\n      <th>Employee</th>\n      <th>Salary</th>\n    </tr>\n  </thead>\n  <tbody>\n    <tr>\n      <th>0</th>\n      <td>goog</td>\n      <td>sam</td>\n      <td>500</td>\n    </tr>\n    <tr>\n      <th>1</th>\n      <td>mcrsft</td>\n      <td>nam</td>\n      <td>800</td>\n    </tr>\n    <tr>\n      <th>2</th>\n      <td>Fb</td>\n      <td>qam</td>\n      <td>4500</td>\n    </tr>\n    <tr>\n      <th>3</th>\n      <td>goog</td>\n      <td>wam</td>\n      <td>2200</td>\n    </tr>\n    <tr>\n      <th>4</th>\n      <td>Fb</td>\n      <td>asam</td>\n      <td>2222</td>\n    </tr>\n    <tr>\n      <th>5</th>\n      <td>mcrsft</td>\n      <td>ndam</td>\n      <td>7899</td>\n    </tr>\n    <tr>\n      <th>6</th>\n      <td>goog</td>\n      <td>qgam</td>\n      <td>2100</td>\n    </tr>\n    <tr>\n      <th>7</th>\n      <td>mcrsft</td>\n      <td>ham</td>\n      <td>3222</td>\n    </tr>\n    <tr>\n      <th>8</th>\n      <td>Fb</td>\n      <td>niiik</td>\n      <td>9899</td>\n    </tr>\n  </tbody>\n</table>\n</div>"
     },
     "metadata": {},
     "execution_count": 2
    }
   ],
   "source": [
    "'''Groupby is the process to group the same row of a column for that we use group by function\n",
    "to understand groupby we create a data frame\n",
    "here we can use statistics'''\n",
    "import pandas as pd \n",
    "import numpy as np\n",
    "\n",
    "data = {'Company': ['goog','mcrsft','Fb','goog','Fb','mcrsft','goog','mcrsft','Fb'],\n",
    "         'Employee': ['sam','nam','qam','wam','asam','ndam','qgam','ham','niiik'],\n",
    "         'Salary': [500,800,4500,2200,2222,7899,2100,3222,9899,] }\n",
    "df = pd.DataFrame(data)    \n",
    "df     "
   ]
  },
  {
   "cell_type": "code",
   "execution_count": 8,
   "metadata": {},
   "outputs": [],
   "source": [
    "by_company = df.groupby('Company')"
   ]
  },
  {
   "cell_type": "code",
   "execution_count": 13,
   "metadata": {},
   "outputs": [
    {
     "output_type": "execute_result",
     "data": {
      "text/plain": [
       "              Salary\n",
       "Company             \n",
       "Fb       5540.333333\n",
       "goog     1600.000000\n",
       "mcrsft   3973.666667"
      ],
      "text/html": "<div>\n<style scoped>\n    .dataframe tbody tr th:only-of-type {\n        vertical-align: middle;\n    }\n\n    .dataframe tbody tr th {\n        vertical-align: top;\n    }\n\n    .dataframe thead th {\n        text-align: right;\n    }\n</style>\n<table border=\"1\" class=\"dataframe\">\n  <thead>\n    <tr style=\"text-align: right;\">\n      <th></th>\n      <th>Salary</th>\n    </tr>\n    <tr>\n      <th>Company</th>\n      <th></th>\n    </tr>\n  </thead>\n  <tbody>\n    <tr>\n      <th>Fb</th>\n      <td>5540.333333</td>\n    </tr>\n    <tr>\n      <th>goog</th>\n      <td>1600.000000</td>\n    </tr>\n    <tr>\n      <th>mcrsft</th>\n      <td>3973.666667</td>\n    </tr>\n  </tbody>\n</table>\n</div>"
     },
     "metadata": {},
     "execution_count": 13
    }
   ],
   "source": [
    "by_company.mean()"
   ]
  },
  {
   "cell_type": "code",
   "execution_count": 14,
   "metadata": {},
   "outputs": [
    {
     "output_type": "execute_result",
     "data": {
      "text/plain": [
       "Salary    16621\n",
       "Name: Fb, dtype: int64"
      ]
     },
     "metadata": {},
     "execution_count": 14
    }
   ],
   "source": [
    "by_company.sum().loc['Fb']"
   ]
  },
  {
   "cell_type": "code",
   "execution_count": 12,
   "metadata": {},
   "outputs": [
    {
     "output_type": "execute_result",
     "data": {
      "text/plain": [
       "              Salary\n",
       "Company             \n",
       "Fb       3942.816548\n",
       "goog      953.939201\n",
       "mcrsft   3608.698149"
      ],
      "text/html": "<div>\n<style scoped>\n    .dataframe tbody tr th:only-of-type {\n        vertical-align: middle;\n    }\n\n    .dataframe tbody tr th {\n        vertical-align: top;\n    }\n\n    .dataframe thead th {\n        text-align: right;\n    }\n</style>\n<table border=\"1\" class=\"dataframe\">\n  <thead>\n    <tr style=\"text-align: right;\">\n      <th></th>\n      <th>Salary</th>\n    </tr>\n    <tr>\n      <th>Company</th>\n      <th></th>\n    </tr>\n  </thead>\n  <tbody>\n    <tr>\n      <th>Fb</th>\n      <td>3942.816548</td>\n    </tr>\n    <tr>\n      <th>goog</th>\n      <td>953.939201</td>\n    </tr>\n    <tr>\n      <th>mcrsft</th>\n      <td>3608.698149</td>\n    </tr>\n  </tbody>\n</table>\n</div>"
     },
     "metadata": {},
     "execution_count": 12
    }
   ],
   "source": [
    "by_company.std()"
   ]
  },
  {
   "cell_type": "code",
   "execution_count": 16,
   "metadata": {},
   "outputs": [
    {
     "output_type": "execute_result",
     "data": {
      "text/plain": [
       "Company       Fb\n",
       "Employee    asam\n",
       "Salary       500\n",
       "dtype: object"
      ]
     },
     "metadata": {},
     "execution_count": 16
    }
   ],
   "source": [
    "df.min()"
   ]
  },
  {
   "cell_type": "code",
   "execution_count": 17,
   "metadata": {},
   "outputs": [
    {
     "output_type": "execute_result",
     "data": {
      "text/plain": [
       "Company     mcrsft\n",
       "Employee       wam\n",
       "Salary        9899\n",
       "dtype: object"
      ]
     },
     "metadata": {},
     "execution_count": 17
    }
   ],
   "source": [
    "df.max()"
   ]
  },
  {
   "cell_type": "code",
   "execution_count": 19,
   "metadata": {},
   "outputs": [
    {
     "output_type": "execute_result",
     "data": {
      "text/plain": [
       "            Salary\n",
       "count     9.000000\n",
       "mean   3704.666667\n",
       "std    3212.708631\n",
       "min     500.000000\n",
       "25%    2100.000000\n",
       "50%    2222.000000\n",
       "75%    4500.000000\n",
       "max    9899.000000"
      ],
      "text/html": "<div>\n<style scoped>\n    .dataframe tbody tr th:only-of-type {\n        vertical-align: middle;\n    }\n\n    .dataframe tbody tr th {\n        vertical-align: top;\n    }\n\n    .dataframe thead th {\n        text-align: right;\n    }\n</style>\n<table border=\"1\" class=\"dataframe\">\n  <thead>\n    <tr style=\"text-align: right;\">\n      <th></th>\n      <th>Salary</th>\n    </tr>\n  </thead>\n  <tbody>\n    <tr>\n      <th>count</th>\n      <td>9.000000</td>\n    </tr>\n    <tr>\n      <th>mean</th>\n      <td>3704.666667</td>\n    </tr>\n    <tr>\n      <th>std</th>\n      <td>3212.708631</td>\n    </tr>\n    <tr>\n      <th>min</th>\n      <td>500.000000</td>\n    </tr>\n    <tr>\n      <th>25%</th>\n      <td>2100.000000</td>\n    </tr>\n    <tr>\n      <th>50%</th>\n      <td>2222.000000</td>\n    </tr>\n    <tr>\n      <th>75%</th>\n      <td>4500.000000</td>\n    </tr>\n    <tr>\n      <th>max</th>\n      <td>9899.000000</td>\n    </tr>\n  </tbody>\n</table>\n</div>"
     },
     "metadata": {},
     "execution_count": 19
    }
   ],
   "source": [
    "df.describe()"
   ]
  },
  {
   "cell_type": "code",
   "execution_count": 24,
   "metadata": {},
   "outputs": [
    {
     "output_type": "execute_result",
     "data": {
      "text/plain": [
       "Company                Fb         goog       mcrsft\n",
       "Salary count     3.000000     3.000000     3.000000\n",
       "       mean   5540.333333  1600.000000  3973.666667\n",
       "       std    3942.816548   953.939201  3608.698149\n",
       "       min    2222.000000   500.000000   800.000000\n",
       "       25%    3361.000000  1300.000000  2011.000000\n",
       "       50%    4500.000000  2100.000000  3222.000000\n",
       "       75%    7199.500000  2150.000000  5560.500000\n",
       "       max    9899.000000  2200.000000  7899.000000"
      ],
      "text/html": "<div>\n<style scoped>\n    .dataframe tbody tr th:only-of-type {\n        vertical-align: middle;\n    }\n\n    .dataframe tbody tr th {\n        vertical-align: top;\n    }\n\n    .dataframe thead th {\n        text-align: right;\n    }\n</style>\n<table border=\"1\" class=\"dataframe\">\n  <thead>\n    <tr style=\"text-align: right;\">\n      <th></th>\n      <th>Company</th>\n      <th>Fb</th>\n      <th>goog</th>\n      <th>mcrsft</th>\n    </tr>\n  </thead>\n  <tbody>\n    <tr>\n      <th rowspan=\"8\" valign=\"top\">Salary</th>\n      <th>count</th>\n      <td>3.000000</td>\n      <td>3.000000</td>\n      <td>3.000000</td>\n    </tr>\n    <tr>\n      <th>mean</th>\n      <td>5540.333333</td>\n      <td>1600.000000</td>\n      <td>3973.666667</td>\n    </tr>\n    <tr>\n      <th>std</th>\n      <td>3942.816548</td>\n      <td>953.939201</td>\n      <td>3608.698149</td>\n    </tr>\n    <tr>\n      <th>min</th>\n      <td>2222.000000</td>\n      <td>500.000000</td>\n      <td>800.000000</td>\n    </tr>\n    <tr>\n      <th>25%</th>\n      <td>3361.000000</td>\n      <td>1300.000000</td>\n      <td>2011.000000</td>\n    </tr>\n    <tr>\n      <th>50%</th>\n      <td>4500.000000</td>\n      <td>2100.000000</td>\n      <td>3222.000000</td>\n    </tr>\n    <tr>\n      <th>75%</th>\n      <td>7199.500000</td>\n      <td>2150.000000</td>\n      <td>5560.500000</td>\n    </tr>\n    <tr>\n      <th>max</th>\n      <td>9899.000000</td>\n      <td>2200.000000</td>\n      <td>7899.000000</td>\n    </tr>\n  </tbody>\n</table>\n</div>"
     },
     "metadata": {},
     "execution_count": 24
    }
   ],
   "source": [
    "df\n",
    "df.groupby('Company').describe().transpose()"
   ]
  },
  {
   "cell_type": "code",
   "execution_count": null,
   "metadata": {},
   "outputs": [],
   "source": []
  }
 ]
}