{
 "metadata": {
  "language_info": {
   "codemirror_mode": {
    "name": "ipython",
    "version": 3
   },
   "file_extension": ".py",
   "mimetype": "text/x-python",
   "name": "python",
   "nbconvert_exporter": "python",
   "pygments_lexer": "ipython3",
   "version": "3.8.5-final"
  },
  "orig_nbformat": 2,
  "kernelspec": {
   "name": "python3",
   "display_name": "Python 3",
   "language": "python"
  }
 },
 "nbformat": 4,
 "nbformat_minor": 2,
 "cells": [
  {
   "cell_type": "code",
   "execution_count": 2,
   "metadata": {},
   "outputs": [],
   "source": [
    "'''Here we are going to learn about Series in pandas\n",
    "-> Series in pandas is like Numpy array or a list in python\n",
    "but in series one feature or one thing is added it is index'''\n",
    "import numpy as np\n",
    "import pandas as pd\n",
    "lst = [25,30,40,50]\n",
    "indx = ['a','b','c','d']\n",
    "array_01 = np.random.randint(1,5,5)\n",
    "dict_01 = {'k1':25,'k2':12,'k3':98,'k4':44}"
   ]
  },
  {
   "cell_type": "code",
   "execution_count": 3,
   "metadata": {},
   "outputs": [
    {
     "output_type": "stream",
     "name": "stdout",
     "text": [
      "0    25\n1    30\n2    40\n3    50\ndtype: int64\na    25\nb    30\nc    40\nd    50\ndtype: int64\n"
     ]
    }
   ],
   "source": [
    "lst_to_Series=pd.Series(lst) # convert list to series\n",
    "print(lst_to_Series)\n",
    "lst_to_Series_01 = pd.Series(lst,indx) # convert list to series with user according index\n",
    "print(lst_to_Series_01)"
   ]
  },
  {
   "cell_type": "code",
   "execution_count": 11,
   "metadata": {},
   "outputs": [
    {
     "output_type": "stream",
     "name": "stdout",
     "text": [
      "a    2\nb    4\nc    4\nd    1\ne    1\ndtype: int64\n"
     ]
    },
    {
     "output_type": "execute_result",
     "data": {
      "text/plain": [
       "'here we convert array to series via give a user define index'"
      ]
     },
     "metadata": {},
     "execution_count": 11
    }
   ],
   "source": [
    "# convert array to Series\n",
    "indx_01 = ['a','b','c','d','e']\n",
    "array_to_series = pd.Series(array_01, indx_01)\n",
    "print(array_to_series)\n",
    "'''here we convert array to series via give a user define index'''"
   ]
  },
  {
   "cell_type": "code",
   "execution_count": 15,
   "metadata": {},
   "outputs": [
    {
     "output_type": "stream",
     "name": "stdout",
     "text": [
      "k1    25\nk2    12\nk3    98\nk4    44\ndtype: int64\n"
     ]
    },
    {
     "output_type": "execute_result",
     "data": {
      "text/plain": [
       "'In this conversion dict key is assign as index'"
      ]
     },
     "metadata": {},
     "execution_count": 15
    }
   ],
   "source": [
    "# convert dict to Series\n",
    "Dict_to_Series = pd.Series(dict_01)\n",
    "print(Dict_to_Series)\n",
    "'''In this conversion dict key is assign as index'''"
   ]
  },
  {
   "cell_type": "code",
   "execution_count": 19,
   "metadata": {},
   "outputs": [
    {
     "output_type": "stream",
     "name": "stdout",
     "text": [
      "nik     1\nsam     2\nami     3\nveen    4\ndtype: int64\n"
     ]
    },
    {
     "output_type": "execute_result",
     "data": {
      "text/plain": [
       "1"
      ]
     },
     "metadata": {},
     "execution_count": 19
    }
   ],
   "source": [
    "# create a series\n",
    "series_01 = pd.Series([1,2,3,4],['nik','sam','ami','veen'])\n",
    "print(series_01)\n",
    "\n",
    "# data extraction from Series\n",
    "\n",
    "series_01['nik'] # here we pass index value and index value will be string, int anything."
   ]
  },
  {
   "cell_type": "code",
   "execution_count": 27,
   "metadata": {},
   "outputs": [
    {
     "output_type": "stream",
     "name": "stdout",
     "text": [
      "0     5\n1    10\n2    15\n3    20\n4    25\n5    30\n6    35\ndtype: int64\n0    30\n1    40\n2    50\n3    60\n4    70\n5    80\n6    90\ndtype: int64\n"
     ]
    }
   ],
   "source": [
    "'''Airthematic Operation on Series'''\n",
    "lst_01 = [5,10,15,20,25,30,35]\n",
    "lst_02 = [30,40,50,60,70,80,90]\n",
    "\n",
    "# convert list to Series\n",
    "\n",
    "lst_01_to_Series = pd.Series(data = lst_01)\n",
    "print(lst_01_to_Series)\n",
    "\n",
    "lst_02_to_Series  = pd.Series(data = lst_02)\n",
    "print(lst_02_to_Series)\n",
    "\n"
   ]
  },
  {
   "cell_type": "code",
   "execution_count": 28,
   "metadata": {},
   "outputs": [
    {
     "output_type": "stream",
     "name": "stdout",
     "text": [
      "addition of 2 Series : 0     35\n1     50\n2     65\n3     80\n4     95\n5    110\n6    125\ndtype: int64\n"
     ]
    }
   ],
   "source": [
    "# Airthematic Operation\n",
    "# ADD two series\n",
    "new_Series = lst_01_to_Series + lst_02_to_Series\n",
    "print('addition of 2 Series :',new_Series)\n"
   ]
  },
  {
   "cell_type": "code",
   "execution_count": 29,
   "metadata": {},
   "outputs": [
    {
     "output_type": "stream",
     "name": "stdout",
     "text": [
      "subtraction of 2 Series : 0   -25\n1   -30\n2   -35\n3   -40\n4   -45\n5   -50\n6   -55\ndtype: int64\n"
     ]
    }
   ],
   "source": [
    "\n",
    "# Subtraction two series\n",
    "new_Series_01 = lst_01_to_Series - lst_02_to_Series\n",
    "print('subtraction of 2 Series :',new_Series_01)"
   ]
  },
  {
   "cell_type": "code",
   "execution_count": null,
   "metadata": {},
   "outputs": [],
   "source": []
  }
 ]
}