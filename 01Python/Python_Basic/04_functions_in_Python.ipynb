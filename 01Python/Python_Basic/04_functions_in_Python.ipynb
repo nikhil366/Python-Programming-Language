{
 "metadata": {
  "language_info": {
   "codemirror_mode": {
    "name": "ipython",
    "version": 3
   },
   "file_extension": ".py",
   "mimetype": "text/x-python",
   "name": "python",
   "nbconvert_exporter": "python",
   "pygments_lexer": "ipython3",
   "version": "3.8.5-final"
  },
  "orig_nbformat": 2,
  "kernelspec": {
   "name": "python38564bitvenv41bdb99f38a645489d4f979c146cb5ca",
   "display_name": "Python 3.8.5 64-bit ('venv')",
   "language": "python"
  }
 },
 "nbformat": 4,
 "nbformat_minor": 2,
 "cells": [
  {
   "cell_type": "code",
   "execution_count": 4,
   "metadata": {},
   "outputs": [
    {
     "output_type": "execute_result",
     "data": {
      "text/plain": [
       "'addition of 25 and 30 is 55 :'"
      ]
     },
     "metadata": {},
     "execution_count": 4
    }
   ],
   "source": [
    "'''for creation of function we use [def] keyword to define a function and benifit of\n",
    "function is we can writ a function for one time and then we can use it for lifetime\n",
    "for example you create a basic addition function then you dont have to use the operator \n",
    "or lines of code to addition. simply you can call a function and pass the value in function\n",
    "it will automatically give the output. '''\n",
    "\n",
    "def add(a,b):\n",
    "    add = a+b\n",
    "    return (\"addition of {one} and {two} is {three} :\".format(one = a, two = b, three = add ))\n",
    "\n",
    "add(25,30) # so here now you can use add funcction to do addition without using operators.\n"
   ]
  },
  {
   "cell_type": "code",
   "execution_count": 10,
   "metadata": {},
   "outputs": [
    {
     "output_type": "stream",
     "name": "stdout",
     "text": [
      "hello welcome in python sam\n"
     ]
    }
   ],
   "source": [
    "def hello(name):\n",
    "    print(\"hello welcome in python \" + name)\n",
    "hello('sam')\n",
    "# basic function for welcome"
   ]
  },
  {
   "cell_type": "code",
   "execution_count": 13,
   "metadata": {},
   "outputs": [
    {
     "output_type": "execute_result",
     "data": {
      "text/plain": [
       "625"
      ]
     },
     "metadata": {},
     "execution_count": 13
    }
   ],
   "source": [
    "# for square\n",
    "def square(num):\n",
    "    '''this is a square program'''\n",
    "    return num**2\n",
    "\n",
    "square(25)"
   ]
  },
  {
   "cell_type": "code",
   "execution_count": null,
   "metadata": {},
   "outputs": [],
   "source": [
    " "
   ]
  }
 ]
}