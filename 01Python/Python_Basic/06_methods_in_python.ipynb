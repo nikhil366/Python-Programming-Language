{
 "metadata": {
  "language_info": {
   "codemirror_mode": {
    "name": "ipython",
    "version": 3
   },
   "file_extension": ".py",
   "mimetype": "text/x-python",
   "name": "python",
   "nbconvert_exporter": "python",
   "pygments_lexer": "ipython3",
   "version": "3.8.5-final"
  },
  "orig_nbformat": 2,
  "kernelspec": {
   "name": "python3",
   "display_name": "Python 3",
   "language": "python"
  }
 },
 "nbformat": 4,
 "nbformat_minor": 2,
 "cells": [
  {
   "cell_type": "code",
   "execution_count": 1,
   "metadata": {},
   "outputs": [
    {
     "output_type": "execute_result",
     "data": {
      "text/plain": [
       "'WELCOME IN PYTHON'"
      ]
     },
     "metadata": {},
     "execution_count": 1
    }
   ],
   "source": [
    "# upper()\n",
    "text_str = \"welcome in python\"\n",
    "text_str.upper()"
   ]
  },
  {
   "cell_type": "code",
   "execution_count": 4,
   "metadata": {},
   "outputs": [
    {
     "output_type": "execute_result",
     "data": {
      "text/plain": [
       "'WELCOME IN PYTHON'"
      ]
     },
     "metadata": {},
     "execution_count": 4
    }
   ],
   "source": [
    "text_str_uppr = text_str.upper()\n",
    "text_str_uppr"
   ]
  },
  {
   "cell_type": "code",
   "execution_count": 6,
   "metadata": {},
   "outputs": [
    {
     "output_type": "execute_result",
     "data": {
      "text/plain": [
       "'welcome in python'"
      ]
     },
     "metadata": {},
     "execution_count": 6
    }
   ],
   "source": [
    "# lower()\n",
    "text_str_lower=text_str_uppr.lower()\n",
    "text_str_lower"
   ]
  },
  {
   "cell_type": "code",
   "execution_count": 7,
   "metadata": {},
   "outputs": [
    {
     "output_type": "execute_result",
     "data": {
      "text/plain": [
       "['welcome', 'in', 'python']"
      ]
     },
     "metadata": {},
     "execution_count": 7
    }
   ],
   "source": [
    "# split method\n",
    "'''So here split function use to split the string on the basis of space'''\n",
    "text_str = \"welcome in python\"\n",
    "text_str.split()"
   ]
  },
  {
   "cell_type": "code",
   "execution_count": 10,
   "metadata": {},
   "outputs": [
    {
     "output_type": "execute_result",
     "data": {
      "text/plain": [
       "['Python is use ', 'for web and app']"
      ]
     },
     "metadata": {},
     "execution_count": 10
    }
   ],
   "source": [
    "# split function according to our command\n",
    "\n",
    "strng = \"Python is use 3for web and app\"\n",
    "# if you want to split the string where it start from  f then you can do it via - \n",
    "strng.split('3')\n",
    "# split where number is 3"
   ]
  },
  {
   "cell_type": "code",
   "execution_count": 5,
   "metadata": {},
   "outputs": [
    {
     "output_type": "execute_result",
     "data": {
      "text/plain": [
       "dict_values([1, 2, 3])"
      ]
     },
     "metadata": {},
     "execution_count": 5
    }
   ],
   "source": [
    "#method for Dict\n",
    "dictnry = {'k1':1,'k2':2,'k3':3}\n",
    "dictnry.keys() # for all the key in dict    \n",
    "dictnry.items() # for all the items in dict\n",
    "dictnry.values() # return values of dict"
   ]
  },
  {
   "cell_type": "code",
   "execution_count": 6,
   "metadata": {},
   "outputs": [
    {
     "output_type": "execute_result",
     "data": {
      "text/plain": [
       "12"
      ]
     },
     "metadata": {},
     "execution_count": 6
    }
   ],
   "source": [
    "# methods for list\n",
    "lst = [2,4,8,54,41,11,12]\n",
    "lst.pop() # pop function is use to take out the last element of a list"
   ]
  },
  {
   "cell_type": "code",
   "execution_count": 9,
   "metadata": {},
   "outputs": [
    {
     "output_type": "execute_result",
     "data": {
      "text/plain": [
       "9"
      ]
     },
     "metadata": {},
     "execution_count": 9
    }
   ],
   "source": [
    "lst = list(range(0,10))\n",
    "lst_element = lst.pop()\n",
    "lst_element # so here pop function delete last value from the list and put it into new variable"
   ]
  },
  {
   "cell_type": "code",
   "execution_count": 14,
   "metadata": {},
   "outputs": [
    {
     "output_type": "execute_result",
     "data": {
      "text/plain": [
       "[11, 12, 14, 15, 16, 17, 18, 19, 20]"
      ]
     },
     "metadata": {},
     "execution_count": 14
    }
   ],
   "source": [
    "# pop() - here we can use pop function for take out element via indexing\n",
    "lstt = [11,12,13,14,15,16,17,18,19,20]\n",
    "lstt.pop(2)\n",
    "lstt # so here we can pop the element via indexing also."
   ]
  },
  {
   "cell_type": "code",
   "execution_count": 16,
   "metadata": {},
   "outputs": [
    {
     "output_type": "execute_result",
     "data": {
      "text/plain": [
       "True"
      ]
     },
     "metadata": {},
     "execution_count": 16
    }
   ],
   "source": [
    "# for check any element in list\n",
    "11 in lstt # so via this we can check any number or string is present in lstt "
   ]
  },
  {
   "cell_type": "code",
   "execution_count": null,
   "metadata": {},
   "outputs": [],
   "source": []
  }
 ]
}