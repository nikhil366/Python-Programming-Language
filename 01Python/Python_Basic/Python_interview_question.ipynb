{
 "metadata": {
  "language_info": {
   "codemirror_mode": {
    "name": "ipython",
    "version": 3
   },
   "file_extension": ".py",
   "mimetype": "text/x-python",
   "name": "python",
   "nbconvert_exporter": "python",
   "pygments_lexer": "ipython3",
   "version": "3.8.5-final"
  },
  "orig_nbformat": 2,
  "kernelspec": {
   "name": "python38564bitvenv41bdb99f38a645489d4f979c146cb5ca",
   "display_name": "Python 3.8.5 64-bit ('venv')",
   "language": "python"
  }
 },
 "nbformat": 4,
 "nbformat_minor": 2,
 "cells": [
  {
   "cell_type": "code",
   "execution_count": 7,
   "metadata": {},
   "outputs": [
    {
     "output_type": "execute_result",
     "data": {
      "text/plain": [
       "'nohtyP ni emcolew'"
      ]
     },
     "metadata": {},
     "execution_count": 7
    }
   ],
   "source": [
    "# print a reverse of string\n",
    "'''1st question of interview\n",
    "How we can print a string into reverse'''\n",
    "str_01 = \"welocme in Python\"\n",
    "str_01[::-1] # print a srtring in reverse"
   ]
  },
  {
   "cell_type": "code",
   "execution_count": 8,
   "metadata": {},
   "outputs": [
    {
     "output_type": "execute_result",
     "data": {
      "text/plain": [
       "40"
      ]
     },
     "metadata": {},
     "execution_count": 8
    }
   ],
   "source": [
    "# add two number\n",
    "def add(x,y):\n",
    "    return x+y\n",
    "\n",
    "add(10,30)"
   ]
  },
  {
   "source": [
    "# find maximum number"
   ],
   "cell_type": "code",
   "metadata": {},
   "execution_count": null,
   "outputs": []
  },
  {
   "cell_type": "code",
   "execution_count": 14,
   "metadata": {},
   "outputs": [],
   "source": [
    "\n",
    "def maximum(a,b):\n",
    "    if a > b:\n",
    "        print(\"{a1} is greater then {b1}\".format(a1=a,b1=b))\n",
    "        print(\"So maximum number is {num}\".format(num=a))\n",
    "    elif a < b:\n",
    "        print(\"{a1} is less then  {b1}\".format(a1=a,b1=b))\n",
    "        print(\"So maximum number is {num}\".format(num=b))\n",
    "\n"
   ]
  },
  {
   "cell_type": "code",
   "execution_count": 15,
   "metadata": {},
   "outputs": [
    {
     "output_type": "stream",
     "name": "stdout",
     "text": [
      "30 is less then  40\nSo maximum number is 40\n"
     ]
    }
   ],
   "source": [
    "maximum(30,40)"
   ]
  },
  {
   "source": [
    "# Python program for Factorial a number\n",
    "The factorial of a number is the product of all the integers from 1 to that number. For example, the factorial of 6 is 1*2*3*4*5*6 = 720 . Factorial is not defined for negative numbers, and the factorial of zero is one, 0!"
   ],
   "cell_type": "markdown",
   "metadata": {}
  },
  {
   "cell_type": "code",
   "execution_count": 20,
   "metadata": {},
   "outputs": [
    {
     "output_type": "execute_result",
     "data": {
      "text/plain": [
       "720"
      ]
     },
     "metadata": {},
     "execution_count": 20
    }
   ],
   "source": [
    "# Python program for Factorial a number\n",
    "# first approach in python to do factorial\n",
    "def factorial(x):\n",
    "    if x == 1: \n",
    "        return 1\n",
    "    elif x == 0:\n",
    "        return 0\n",
    "    elif x>1:\n",
    "        return x * factorial(x-1)\n",
    "\n",
    "factorial(6)"
   ]
  },
  {
   "cell_type": "code",
   "execution_count": null,
   "metadata": {},
   "outputs": [],
   "source": [
    "# 2nd approach for factorial\n",
    "def Factorial_2nd(x):\n",
    "    if x == 1: \n",
    "        return 1\n",
    "    elif x == 0:\n",
    "        return 0\n",
    "    else:\n",
    "        fact = 1\n",
    "        while(x > 1):\n",
    "            fact = fact*x"
   ]
  },
  {
   "cell_type": "code",
   "execution_count": null,
   "metadata": {},
   "outputs": [],
   "source": []
  }
 ]
}