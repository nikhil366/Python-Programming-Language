{
 "metadata": {
  "language_info": {
   "codemirror_mode": {
    "name": "ipython",
    "version": 3
   },
   "file_extension": ".py",
   "mimetype": "text/x-python",
   "name": "python",
   "nbconvert_exporter": "python",
   "pygments_lexer": "ipython3",
   "version": "3.8.5-final"
  },
  "orig_nbformat": 2,
  "kernelspec": {
   "name": "python3",
   "display_name": "Python 3",
   "language": "python"
  }
 },
 "nbformat": 4,
 "nbformat_minor": 2,
 "cells": [
  {
   "cell_type": "code",
   "execution_count": 14,
   "metadata": {},
   "outputs": [
    {
     "output_type": "stream",
     "name": "stdout",
     "text": [
      "[23 29 43 48 12 24 48 44 37 41 42 42 20 46 30]\nso on index 3 value on list is : 48\nso on index 10 value on list is : 42\nso specific range on list is : [23 29 43 48 12 24 48 44 37 41 42 42]\nso specific range on list is : [42 42 20 46 30]\n"
     ]
    }
   ],
   "source": [
    "import numpy as np\n",
    "\n",
    "'''if you want to find something value via index then we use this process'''\n",
    "arr_01 = np.random.randint(10,50,15)\n",
    "print(arr_01)\n",
    "\n",
    "print(\"so on index 3 value on list is :\",arr_01[3]) # here we can use this to vind corresponding value of index\n",
    "\n",
    "new_value = arr_01[10] # store a value on the basis of index into new variable\n",
    "print(\"so on index 10 value on list is :\",new_value)\n",
    "\n",
    "# More operation on index\n",
    "\n",
    "specific_range = arr_01[0:12]\n",
    "print(\"so specific range on list is :\",specific_range) # here we get value of list from 0 index to 12 index\n",
    "\n",
    "specific_range = arr_01[10:15]\n",
    "print(\"so specific range on list is :\",specific_range) \n"
   ]
  },
  {
   "cell_type": "code",
   "execution_count": 18,
   "metadata": {},
   "outputs": [
    {
     "output_type": "stream",
     "name": "stdout",
     "text": [
      "[10 11 12 13 14 15 16 17 18 19 20 21 22 23 24 25 26 27 28 29]\n[50 50 50 50 50 15 16 17 18 19 20 21 22 23 24 25 26 27 28 29]\n"
     ]
    }
   ],
   "source": [
    "# broadcast in numpy\n",
    "'''broadcast is very usefull feature of numpy\n",
    "and it is diffrent from normal list of python for example'''\n",
    "lst_02 = np.arange(10,30)\n",
    "print(lst_02)\n",
    "lst_02[0:5] = 50 #here for every value of lst_02 is going to assign 50 for every value\n",
    "print(lst_02)"
   ]
  },
  {
   "cell_type": "code",
   "execution_count": 27,
   "metadata": {},
   "outputs": [
    {
     "output_type": "stream",
     "name": "stdout",
     "text": [
      "[[ 5 10 15]\n [15 20 25]\n [30 35 40]]\nfirst element of matics is : 5\nfifth element of matics is : 20\nseven element of matics is : 35\n"
     ]
    }
   ],
   "source": [
    "# indexing on 2D array or Indexing on matrics\n",
    "new_matrics = np.array([[5,10,15],[15,20,25],[30,35,40]])\n",
    "print(new_matrics)\n",
    "\n",
    "'''how we can extract the element from the matrices'''\n",
    "\n",
    "first_element = new_matrics[0][0] # in this 1st 0 tends to 1st row and 2nd 0tends for 1st column\n",
    "print(\"first element of matics is :\", first_element)\n",
    "\n",
    "fifth_element = new_matrics[1][1]\n",
    "print(\"fifth element of matics is :\", fifth_element)\n",
    "\n",
    "'''another way to extract element from matrics'''\n",
    "seven_element = new_matrics[2,1]\n",
    "print(\"seven element of matics is :\",seven_element)\n"
   ]
  },
  {
   "cell_type": "code",
   "execution_count": 33,
   "metadata": {},
   "outputs": [
    {
     "output_type": "stream",
     "name": "stdout",
     "text": [
      "[[25 30 40]\n [15 80 95]\n [70 25 50]]\n[[25 30 40]\n [15 80 95]]\n[[25 30]\n [15 80]]\n[[25 30 40]]\n"
     ]
    }
   ],
   "source": [
    "# breaking any matrices according to requirement\n",
    "\n",
    "matrics_002  = np.array([[25,30,40],[15,80,95],[70,25,50]])\n",
    "print(matrics_002)\n",
    "\n",
    "print(matrics_002[:2]) # it will print 2 starting row\n",
    "print(matrics_002[:2,:2])# it will give 2*2 matrics of starting\n",
    "print(matrics_002[:1][:3]) # first row of matrics"
   ]
  },
  {
   "cell_type": "code",
   "execution_count": 36,
   "metadata": {},
   "outputs": [
    {
     "output_type": "stream",
     "name": "stdout",
     "text": [
      "[20 10  2 20  2 12  0 10  7 11  1  4 11 20 28]\n[False False False False False False False False False False False False\n False False False]\n"
     ]
    }
   ],
   "source": [
    "# comarison operator\n",
    "lst = np.random.randint(0,30,15)\n",
    "print(lst)\n",
    "\n",
    "greater_value = lst > 30\n",
    "print(greater_value)"
   ]
  },
  {
   "cell_type": "code",
   "execution_count": null,
   "metadata": {},
   "outputs": [],
   "source": []
  }
 ]
}