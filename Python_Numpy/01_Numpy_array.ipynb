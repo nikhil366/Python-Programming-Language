{
 "metadata": {
  "language_info": {
   "codemirror_mode": {
    "name": "ipython",
    "version": 3
   },
   "file_extension": ".py",
   "mimetype": "text/x-python",
   "name": "python",
   "nbconvert_exporter": "python",
   "pygments_lexer": "ipython3",
   "version": "3.8.5-final"
  },
  "orig_nbformat": 2,
  "kernelspec": {
   "name": "python3",
   "display_name": "Python 3",
   "language": "python"
  }
 },
 "nbformat": 4,
 "nbformat_minor": 2,
 "cells": [
  {
   "cell_type": "code",
   "execution_count": 31,
   "metadata": {},
   "outputs": [
    {
     "output_type": "execute_result",
     "data": {
      "text/plain": [
       "array([ 2,  4,  5,  7,  6, 87])"
      ]
     },
     "metadata": {},
     "execution_count": 31
    }
   ],
   "source": [
    "import numpy as np\n",
    "'''Numpy comes in 2 form\n",
    "1. Vector (1D Array)\n",
    "2. Matrices (2D Array) '''\n",
    "\n",
    "# converting a list into 1d array\n",
    "\n",
    "list_01 = [2,4,5,7,6,87]\n",
    "arr = np.array(list_01)\n",
    "arr"
   ]
  },
  {
   "cell_type": "code",
   "execution_count": 32,
   "metadata": {},
   "outputs": [
    {
     "output_type": "execute_result",
     "data": {
      "text/plain": [
       "array([[1, 2, 3],\n",
       "       [5, 4, 6],\n",
       "       [8, 9, 7]])"
      ]
     },
     "metadata": {},
     "execution_count": 32
    }
   ],
   "source": [
    "# converting a list to 2D array\n",
    "matric_list = [[1,2,3],[5,4,6],[8,9,7]]\n",
    "martcs = np.array(matric_list)\n",
    "martcs"
   ]
  },
  {
   "cell_type": "code",
   "execution_count": 33,
   "metadata": {},
   "outputs": [
    {
     "output_type": "stream",
     "name": "stdout",
     "text": [
      "(array([ 0,  2,  4,  6,  8, 10, 12, 14, 16, 18, 20]), array([0, 1, 2, 3, 4, 5, 6, 7, 8, 9]))\n"
     ]
    }
   ],
   "source": [
    "# np.arange\n",
    "''' np.arange function is like a range function of python'''\n",
    "arra = np.arange(0,10) # for create a array\n",
    "arr_2 = np.arange(0,22,2) # here 2 is for gap in range  \n",
    "print((arr_2,arra))"
   ]
  },
  {
   "cell_type": "code",
   "execution_count": 34,
   "metadata": {},
   "outputs": [
    {
     "output_type": "stream",
     "name": "stdout",
     "text": [
      "[[0. 0.]\n [0. 0.]\n [0. 0.]\n [0. 0.]\n [0. 0.]]\n"
     ]
    }
   ],
   "source": [
    "# create a matrices of zeros\n",
    "zeros_matric = np.zeros((5,5)) # martic is created of (0,0) here in this you can change the tupple value to create a matrice according to you.\n",
    "\n",
    "zeros_matric_01 = np.zeros((5,2)) # first farrgument for row and 2nd for column\n",
    "print(zeros_matric_01)"
   ]
  },
  {
   "cell_type": "code",
   "execution_count": 35,
   "metadata": {},
   "outputs": [
    {
     "output_type": "stream",
     "name": "stdout",
     "text": [
      "[[1. 1. 1. 1. 1.]\n [1. 1. 1. 1. 1.]\n [1. 1. 1. 1. 1.]\n [1. 1. 1. 1. 1.]\n [1. 1. 1. 1. 1.]]\n[[1. 1.]\n [1. 1.]\n [1. 1.]\n [1. 1.]\n [1. 1.]]\n"
     ]
    }
   ],
   "source": [
    "'''as like zeros you can use one'''\n",
    "zeros_matric = np.ones((5,5))\n",
    "print(zeros_matric)\n",
    " # martic is created of (1,1) here in this you can change the tupple value to create a matrice according to you.\n",
    "\n",
    "zeros_matric_01 = np.ones((5,2)) # first farrgument for row and 2nd for column\n",
    "print(zeros_matric_01)"
   ]
  },
  {
   "cell_type": "code",
   "execution_count": 36,
   "metadata": {},
   "outputs": [
    {
     "output_type": "execute_result",
     "data": {
      "text/plain": [
       "array([ 0.        ,  5.55555556, 11.11111111, 16.66666667, 22.22222222,\n",
       "       27.77777778, 33.33333333, 38.88888889, 44.44444444, 50.        ])"
      ]
     },
     "metadata": {},
     "execution_count": 36
    }
   ],
   "source": [
    "# linspace\n",
    "'''linspace will give you a number count. here as like range where we pass third argumnt for gap as like that here 3rd argument is for how much no you want in matrices'''\n",
    "array_03 = np.linspace(0,50,10)\n",
    "array_03\n"
   ]
  },
  {
   "cell_type": "code",
   "execution_count": 37,
   "metadata": {},
   "outputs": [
    {
     "output_type": "execute_result",
     "data": {
      "text/plain": [
       "array([[1., 0., 0., 0., 0.],\n",
       "       [0., 1., 0., 0., 0.],\n",
       "       [0., 0., 1., 0., 0.],\n",
       "       [0., 0., 0., 1., 0.],\n",
       "       [0., 0., 0., 0., 1.]])"
      ]
     },
     "metadata": {},
     "execution_count": 37
    }
   ],
   "source": [
    "# identity Matices \n",
    "'''identity Matices is very usefull when you are doing algebra problems'''\n",
    "identity_martics = np.eye(5)\n",
    "identity_martics"
   ]
  },
  {
   "cell_type": "code",
   "execution_count": 39,
   "metadata": {},
   "outputs": [
    {
     "output_type": "stream",
     "name": "stdout",
     "text": [
      "[0.15025725]\n[0.11633815 0.45129575 0.65074155 0.68837605]\n[[0.75430377 0.70616921 0.51434209 0.09855179 0.27911242]\n [0.73968161 0.34536832 0.65574324 0.11321156 0.38742873]\n [0.73052025 0.42627248 0.58826369 0.93696903 0.35109428]\n [0.43693893 0.9614312  0.30158715 0.18299871 0.44897649]\n [0.25385038 0.62185533 0.64135386 0.34140308 0.13702874]]\n"
     ]
    }
   ],
   "source": [
    "# creating matric or array from random\n",
    "random_1d_array = np.random.rand(1) # here 1 random no. will generate\n",
    "random_1d_array_01 = np.random.rand(4) # here 4 diffrent no. will generate\n",
    "print(random_1d_array)\n",
    "print(random_1d_array_01)\n",
    "\n",
    "# creating matrices\n",
    "random_matrices = np.random.rand(5,5) # it will generate (5,5) matrics\n",
    "print(random_matrices)\n",
    "\n",
    "\n"
   ]
  },
  {
   "cell_type": "code",
   "execution_count": 46,
   "metadata": {},
   "outputs": [
    {
     "output_type": "stream",
     "name": "stdout",
     "text": [
      "47\n[ 0 64  9  5 19 12 81 21 99  2]\n"
     ]
    }
   ],
   "source": [
    "# randint\n",
    "\n",
    "random_matrices_int = np.random.randint(0,100) # it will generate a int value randomly from 1 to 100\n",
    "random_matrices_int_01 = np.random.randint(0,100,10) # it will generate 10 random no from given list\n",
    "print(random_matrices_int)\n",
    "print(random_matrices_int_01)"
   ]
  },
  {
   "cell_type": "code",
   "execution_count": 52,
   "metadata": {},
   "outputs": [
    {
     "output_type": "stream",
     "name": "stdout",
     "text": [
      "[ 0  1  2  3  4  5  6  7  8  9 10 11 12 13 14 15 16 17 18 19 20 21 22 23\n 24]\n[[ 0  1  2  3  4]\n [ 5  6  7  8  9]\n [10 11 12 13 14]\n [15 16 17 18 19]\n [20 21 22 23 24]]\n"
     ]
    }
   ],
   "source": [
    "# reshape array\n",
    "''' here in numpy we can reshape our array to matrices and we get error if we use a number out of range to the matrics'''\n",
    "\n",
    "arr = np.arange(0,25)\n",
    "print(arr)\n",
    "reshape_arr = arr.reshape(5,5) # reshape the array to matrices\n",
    "print(reshape_arr)"
   ]
  },
  {
   "cell_type": "code",
   "execution_count": 60,
   "metadata": {},
   "outputs": [
    {
     "output_type": "stream",
     "name": "stdout",
     "text": [
      "max value is : 49\nmin value is : 0\n"
     ]
    }
   ],
   "source": [
    "# find max value of array\n",
    "\n",
    "arr_001 = np.arange(0,50)\n",
    "arr_001_max = np.max(arr_001)\n",
    "print(\"max value is :\", arr_001_max)\n",
    "\n",
    "# find min value of array\n",
    "\n",
    "arr_002 = np.arange(0,50)\n",
    "arr_002_min = np.min(arr_001)\n",
    "print(\"min value is :\", arr_002_min)\n"
   ]
  },
  {
   "cell_type": "code",
   "execution_count": 66,
   "metadata": {},
   "outputs": [
    {
     "output_type": "stream",
     "name": "stdout",
     "text": [
      "[ 93 120  88  30  96  89  51 121  71  58  77  28  63  63 133 110 147  10\n 138  22 102  70  88  86  52 119 114 141  63  30  99  94  19  28  60   8\n  73  92  18 117 139  45 127  51  19 147 111  79  51 134]\nindex of higher value in list is : 16\n[ 71 136  97  98 108 108 141 124  38  78  86 140  15 122  19 131  75  86\n   5  12 130 134 126  86 131 107 103 111  45 115 140  29  26 113  63  19\n 118  25  44  34  17  65  53  12  15 125 126 110  89  86]\nindex of lower value in list is : 18\n"
     ]
    },
    {
     "output_type": "execute_result",
     "data": {
      "text/plain": [
       "'so via this you can find highset value of list and his index also.'"
      ]
     },
     "metadata": {},
     "execution_count": 66
    }
   ],
   "source": [
    "#find index of max value\n",
    "\n",
    "val_01 = np.random.randint(5,150,50)\n",
    "print(val_01)\n",
    "higher_value_index = val_01.argmax()\n",
    "print(\"index of higher value in list is :\", higher_value_index) \n",
    "'''so via this you can find highset value of list and his index also.'''\n",
    "\n",
    "#find index of min value\n",
    "\n",
    "val_01 = np.random.randint(5,150,50)\n",
    "print(val_01)\n",
    "lower_value_index = val_01.argmin()\n",
    "print(\"index of lower value in list is :\", lower_value_index) \n",
    "'''so via this you can find highset value of list and his index also.'''"
   ]
  },
  {
   "cell_type": "code",
   "execution_count": null,
   "metadata": {},
   "outputs": [],
   "source": []
  }
 ]
}