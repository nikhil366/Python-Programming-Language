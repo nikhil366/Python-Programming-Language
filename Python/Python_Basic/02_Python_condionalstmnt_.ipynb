{
 "metadata": {
  "language_info": {
   "codemirror_mode": {
    "name": "ipython",
    "version": 3
   },
   "file_extension": ".py",
   "mimetype": "text/x-python",
   "name": "python",
   "nbconvert_exporter": "python",
   "pygments_lexer": "ipython3",
   "version": "3.8.5-final"
  },
  "orig_nbformat": 2,
  "kernelspec": {
   "name": "python38564bitvenv41bdb99f38a645489d4f979c146cb5ca",
   "display_name": "Python 3.8.5 64-bit ('venv')",
   "language": "python"
  }
 },
 "nbformat": 4,
 "nbformat_minor": 2,
 "cells": [
  {
   "cell_type": "code",
   "execution_count": 1,
   "metadata": {},
   "outputs": [
    {
     "output_type": "stream",
     "name": "stdout",
     "text": [
      "no\n"
     ]
    }
   ],
   "source": [
    "# statement  - if / elif / else\n",
    "\n",
    "if 1>2:\n",
    "    print(\"yes\")\n",
    "else:\n",
    "    print(\"no\")\n"
   ]
  },
  {
   "cell_type": "code",
   "execution_count": 8,
   "metadata": {},
   "outputs": [
    {
     "output_type": "stream",
     "name": "stdout",
     "text": [
      "hurree\ntrue\n"
     ]
    }
   ],
   "source": [
    "# in this lecture you can see a proble or isssue with if elif and else statement is if one condition is true then it will came out and give output.\n",
    "if 1 == 2:\n",
    "    print('first')\n",
    "elif 4==4:\n",
    "    print(\"hurree\")    \n",
    "elif 3 == 3:\n",
    "    print(\"true\")\n",
    "else:\n",
    "    print(\"no\")    \n",
    "\n",
    "    "
   ]
  },
  {
   "cell_type": "code",
   "execution_count": 9,
   "metadata": {},
   "outputs": [
    {
     "output_type": "stream",
     "name": "stdout",
     "text": [
      "hurree\ntrue\n"
     ]
    }
   ],
   "source": [
    "# nested if\n",
    "if 1 == 2:\n",
    "    print('first')\n",
    "elif 4==4:\n",
    "    print(\"hurree\")    \n",
    "    if 3 == 3:\n",
    "        print(\"true\")\n",
    "else:\n",
    "    print(\"no\")    "
   ]
  },
  {
   "cell_type": "code",
   "execution_count": null,
   "metadata": {},
   "outputs": [],
   "source": []
  }
 ]
}