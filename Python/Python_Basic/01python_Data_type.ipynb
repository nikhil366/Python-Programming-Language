{
 "metadata": {
  "language_info": {
   "codemirror_mode": {
    "name": "ipython",
    "version": 3
   },
   "file_extension": ".py",
   "mimetype": "text/x-python",
   "name": "python",
   "nbconvert_exporter": "python",
   "pygments_lexer": "ipython3",
   "version": "3.8.5-final"
  },
  "orig_nbformat": 2,
  "kernelspec": {
   "name": "python3",
   "display_name": "Python 3",
   "language": "python"
  }
 },
 "nbformat": 4,
 "nbformat_minor": 2,
 "cells": [
  {
   "cell_type": "code",
   "execution_count": 2,
   "metadata": {},
   "outputs": [
    {
     "output_type": "execute_result",
     "data": {
      "text/plain": [
       "\"So here we are going to study about python data type\\n here in this you will study about data type and use of data type'\\n datatypes are Numbers, Strings, Printing,Lists ,Dictionaries ,Booleans ,Tuples, Sets \""
      ]
     },
     "metadata": {},
     "execution_count": 2
    }
   ],
   "source": [
    "'''So here we are going to study about python data type\n",
    " here in this you will study about data type and use of data type'\n",
    " datatypes are Numbers, Strings, Printing,Lists ,Dictionaries ,Booleans ,Tuples, Sets '''\n"
   ]
  },
  {
   "cell_type": "code",
   "execution_count": 3,
   "metadata": {},
   "outputs": [
    {
     "output_type": "execute_result",
     "data": {
      "text/plain": [
       "1"
      ]
     },
     "metadata": {},
     "execution_count": 3
    }
   ],
   "source": [
    "# Number / Integer\n",
    "''' number in python or integer in python\n",
    "in integer only i'''\n",
    "\n",
    "1"
   ]
  },
  {
   "cell_type": "code",
   "execution_count": 4,
   "metadata": {},
   "outputs": [
    {
     "output_type": "stream",
     "name": "stdout",
     "text": [
      "20\n"
     ]
    },
    {
     "output_type": "execute_result",
     "data": {
      "text/plain": [
       "20"
      ]
     },
     "metadata": {},
     "execution_count": 4
    }
   ],
   "source": [
    "x = 20 # assign a value to variable\n",
    "print(x)\n",
    "x # either for single variable you can write only variable name"
   ]
  },
  {
   "cell_type": "code",
   "execution_count": 5,
   "metadata": {},
   "outputs": [
    {
     "output_type": "stream",
     "name": "stdout",
     "text": [
      "4\n16\n"
     ]
    }
   ],
   "source": [
    "# for square\n",
    "print(2 ** 2)\n",
    "print(4**2)"
   ]
  },
  {
   "cell_type": "code",
   "execution_count": 6,
   "metadata": {},
   "outputs": [
    {
     "output_type": "execute_result",
     "data": {
      "text/plain": [
       "18"
      ]
     },
     "metadata": {},
     "execution_count": 6
    }
   ],
   "source": [
    "int((2*2) + (2*3) + (16/2))"
   ]
  },
  {
   "cell_type": "code",
   "execution_count": 7,
   "metadata": {},
   "outputs": [
    {
     "output_type": "execute_result",
     "data": {
      "text/plain": [
       "' in Python arthematical operator work in this way  \\nOrder of operation - PEMDAS\\n  1. Parentheses ( )\\n  2. Exponent **\\n  3. Multiplication *\\n  4. Division / // %\\n  5. Addition +\\n  6. Subtraction -\\n  '"
      ]
     },
     "metadata": {},
     "execution_count": 7
    }
   ],
   "source": [
    "''' in Python arthematical operator work in this way  \n",
    "Order of operation - PEMDAS\n",
    "  1. Parentheses ( )\n",
    "  2. Exponent **\n",
    "  3. Multiplication *\n",
    "  4. Division / // %\n",
    "  5. Addition +\n",
    "  6. Subtraction -\n",
    "  '''"
   ]
  },
  {
   "cell_type": "code",
   "execution_count": 8,
   "metadata": {},
   "outputs": [
    {
     "output_type": "execute_result",
     "data": {
      "text/plain": [
       "0"
      ]
     },
     "metadata": {},
     "execution_count": 8
    }
   ],
   "source": [
    "4 % 2 # for check reminder"
   ]
  },
  {
   "cell_type": "code",
   "execution_count": 9,
   "metadata": {},
   "outputs": [
    {
     "output_type": "stream",
     "name": "stdout",
     "text": [
      "[5, 10]\n"
     ]
    }
   ],
   "source": [
    "'''variable assign'''\n",
    "\n",
    "x = 5\n",
    "y = x+x\n",
    "print([x,y])"
   ]
  },
  {
   "cell_type": "code",
   "execution_count": 10,
   "metadata": {},
   "outputs": [
    {
     "output_type": "stream",
     "name": "stdout",
     "text": [
      "welcome in python\n"
     ]
    }
   ],
   "source": [
    "'''now we understand about string\n",
    "string are mention in 'string01' ,\n",
    "\"string02\" , ''''''. \n",
    "'''\n",
    "a =  \"welcome in python\"\n",
    "print(a)\n"
   ]
  },
  {
   "cell_type": "code",
   "execution_count": 11,
   "metadata": {},
   "outputs": [
    {
     "output_type": "execute_result",
     "data": {
      "text/plain": [
       "'python programing language'"
      ]
     },
     "metadata": {},
     "execution_count": 11
    }
   ],
   "source": [
    "# string\n",
    "\"python programing language\""
   ]
  },
  {
   "cell_type": "code",
   "execution_count": 12,
   "metadata": {},
   "outputs": [
    {
     "output_type": "stream",
     "name": "stdout",
     "text": [
      "my name is sam and my age is 25\n"
     ]
    }
   ],
   "source": [
    "# here is another way to put value in string via format\n",
    "name = 'sam'\n",
    "age = 25\n",
    "print('my name is {} and my age is {}'.format(name,age))"
   ]
  },
  {
   "cell_type": "code",
   "execution_count": 13,
   "metadata": {},
   "outputs": [
    {
     "output_type": "stream",
     "name": "stdout",
     "text": [
      "my name is sam and my age is 25\n"
     ]
    }
   ],
   "source": [
    "# for formating order in sequence way\n",
    "name = 'sam'\n",
    "age = 25\n",
    "print('my name is {one} and my age is {two}'.format(one = name, two=age))"
   ]
  },
  {
   "cell_type": "code",
   "execution_count": 14,
   "metadata": {},
   "outputs": [
    {
     "output_type": "stream",
     "name": "stdout",
     "text": [
      "p\npy\npyt\nho\n"
     ]
    }
   ],
   "source": [
    "# for indexing in python\n",
    "a = 'python'\n",
    "\n",
    "# here index is start from 0 and end on -1\n",
    "\n",
    "\n",
    "print(a[0]) # for print index 0 value\n",
    "print(a[0:2]) # for print in specific range\n",
    "print(a[:3]) # for print starting to 3\n",
    "print(a[3:5]) # for specific range"
   ]
  },
  {
   "cell_type": "code",
   "execution_count": 15,
   "metadata": {},
   "outputs": [
    {
     "output_type": "stream",
     "name": "stdout",
     "text": [
      "['nik']\n['nik', 'vik']\n"
     ]
    }
   ],
   "source": [
    "# list\n",
    "# list is mutable / means value can change\n",
    "# list can work liae as array but it can also store strings\n",
    "\n",
    "list_of_string = ['nik','vik','dik']\n",
    "list_of_string.append('gil') # append for add something on the end of list\n",
    "print(list_of_string[:1])# for print range in specifc order\n",
    "print(list_of_string[0:2])"
   ]
  },
  {
   "cell_type": "code",
   "execution_count": 16,
   "metadata": {},
   "outputs": [
    {
     "output_type": "stream",
     "name": "stdout",
     "text": [
      "nik\namff\n"
     ]
    }
   ],
   "source": [
    "nest_list = [1,2,['nik','amit',[52,'amff','sim']]]\n",
    "print(nest_list[2][0]) # here in this we can extract element from a list to list\n",
    "print(nest_list[2][2][1]) # extract element from list to list to list\n"
   ]
  },
  {
   "cell_type": "code",
   "execution_count": 17,
   "metadata": {},
   "outputs": [
    {
     "output_type": "stream",
     "name": "stdout",
     "text": [
      "2\n[1, 2, 3, 'python']\n"
     ]
    }
   ],
   "source": [
    "# example of mutable\n",
    "lst  = [1,2,3,5]\n",
    "print(lst[1])\n",
    "lst[3] = 'python' # so here we chnage the index value of list 3 to python this is mutable \n",
    "print(lst)"
   ]
  },
  {
   "cell_type": "code",
   "execution_count": 18,
   "metadata": {},
   "outputs": [
    {
     "output_type": "execute_result",
     "data": {
      "text/plain": [
       "'value'"
      ]
     },
     "metadata": {},
     "execution_count": 18
    }
   ],
   "source": [
    "# data type  - Dictionaries - {}\n",
    "#to understand Dictionaries better you can compare it with phone book diary\n",
    "d = {'key1':'value','key2':'value'} # here we are going to assign a key and value\n",
    "d['key1']"
   ]
  },
  {
   "cell_type": "code",
   "execution_count": 19,
   "metadata": {},
   "outputs": [
    {
     "output_type": "execute_result",
     "data": {
      "text/plain": [
       "1"
      ]
     },
     "metadata": {},
     "execution_count": 19
    }
   ],
   "source": [
    "# Dictionaries\n",
    "dic = {'k1':[1,2,3]} # assign multiple value to dictonary\n",
    "dic['k1'][0] # here in this we can extract the value via indexing"
   ]
  },
  {
   "cell_type": "code",
   "execution_count": 20,
   "metadata": {},
   "outputs": [
    {
     "output_type": "stream",
     "name": "stdout",
     "text": [
      "{'phone_key': [2236, 2525, 1155, 4154]}\n1155\n"
     ]
    }
   ],
   "source": [
    "# Dictionaries\n",
    "\n",
    "value = {'key':{'phone_key':[2236,2525,1155,4154]}}\n",
    "print(value['key']) # for find the value of key\n",
    "print(value['key']['phone_key'][2]) # extract specific key number\n",
    "\n",
    " "
   ]
  },
  {
   "cell_type": "code",
   "execution_count": 21,
   "metadata": {},
   "outputs": [
    {
     "output_type": "execute_result",
     "data": {
      "text/plain": [
       "(52, 12, 'nik')"
      ]
     },
     "metadata": {},
     "execution_count": 21
    }
   ],
   "source": [
    "# Data type tupple   -   ()\n",
    "# tupple is imutable\n",
    "\n",
    "a = (52,12,'nik') # after asign a tupple you can change the variable\n",
    "a\n"
   ]
  },
  {
   "cell_type": "code",
   "execution_count": 22,
   "metadata": {},
   "outputs": [
    {
     "output_type": "execute_result",
     "data": {
      "text/plain": [
       "{1, 2, 3, 5, 6, 51, 385}"
      ]
     },
     "metadata": {},
     "execution_count": 22
    }
   ],
   "source": [
    "# data type - set {}\n",
    "# main thing about set is data are unique in it.\n",
    "s = {1,2,5,5,1,2,2,5,1,6,51,2,3,5} # in this set it will only capture unique element not repeted element\n",
    "s.add(385) # add function is use to add something on last element in set\n",
    "s\n"
   ]
  },
  {
   "cell_type": "code",
   "execution_count": null,
   "metadata": {},
   "outputs": [],
   "source": []
  }
 ]
}