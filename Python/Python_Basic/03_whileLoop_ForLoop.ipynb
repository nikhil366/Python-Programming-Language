{
 "metadata": {
  "language_info": {
   "codemirror_mode": {
    "name": "ipython",
    "version": 3
   },
   "file_extension": ".py",
   "mimetype": "text/x-python",
   "name": "python",
   "nbconvert_exporter": "python",
   "pygments_lexer": "ipython3",
   "version": "3.8.5-final"
  },
  "orig_nbformat": 2,
  "kernelspec": {
   "name": "python38564bitvenv41bdb99f38a645489d4f979c146cb5ca",
   "display_name": "Python 3.8.5 64-bit ('venv')",
   "language": "python"
  }
 },
 "nbformat": 4,
 "nbformat_minor": 2,
 "cells": [
  {
   "cell_type": "code",
   "execution_count": 14,
   "metadata": {},
   "outputs": [
    {
     "output_type": "stream",
     "name": "stdout",
     "text": [
      "nik\nbro\nsam\ntro\npam\nnik\nnik\nnik\nnik\nnik\n"
     ]
    }
   ],
   "source": [
    "'''here in this we will understand how loops will work in python we start from basic programs \n",
    "to understand how loops will work.'''\n",
    "\n",
    "# For Loops\n",
    "\n",
    "name = ['nik','bro','sam','tro','pam']\n",
    "for names in name:\n",
    "    print(names)\n",
    "    '''here is you can change the names to 'any_text'\n",
    "       then it will execute the name equals to length\n",
    "       of name you can try to put any name in print('sam')'''\n",
    "    \n",
    "name = ['nik','bro','sam','tro','pam']\n",
    "for names in name:\n",
    "    print('nik')"
   ]
  },
  {
   "cell_type": "code",
   "execution_count": 15,
   "metadata": {
    "tags": []
   },
   "outputs": [
    {
     "output_type": "stream",
     "name": "stdout",
     "text": [
      "i is 1\ni is 2\ni is 3\ni is 4\n"
     ]
    }
   ],
   "source": [
    "i = 1\n",
    "while i < 5:\n",
    "    print('i is {}'.format(i))\n",
    "    i = i+1\n"
   ]
  },
  {
   "cell_type": "code",
   "execution_count": 16,
   "metadata": {},
   "outputs": [
    {
     "output_type": "stream",
     "name": "stdout",
     "text": [
      "i is 0\ni is 1\ni is 2\ni is 3\ni is 4\ni is 5\ni is 6\ni is 7\ni is 8\ni is 9\n"
     ]
    },
    {
     "output_type": "execute_result",
     "data": {
      "text/plain": [
       "'always remember python index will start from 0. So here in this case you want a list \\nof range from 0 to 10 then it will start from 0 and it will end on 9'"
      ]
     },
     "metadata": {},
     "execution_count": 16
    }
   ],
   "source": [
    "# python range function \n",
    "'''python range function is use to perform a operation or print value in specific range.'''\n",
    "for i in range(0,10):\n",
    "    print('i is {}'.format(i))\n",
    "\n",
    "# creating a list with range function\n",
    "list(range(0,10))\n",
    "'''always remember python index will start from 0. So here in this case you want a list \n",
    "of range from 0 to 10 then it will start from 0 and it will end on 9'''"
   ]
  },
  {
   "cell_type": "code",
   "execution_count": 17,
   "metadata": {},
   "outputs": [
    {
     "output_type": "stream",
     "name": "stdout",
     "text": [
      "[0, 2, 4, 6, 8, 10, 12, 14, 16, 18]\n"
     ]
    }
   ],
   "source": [
    "# implement append function \n",
    "'''append function is use to apend something in list or\n",
    "we can use append method to add something on end of list or anything'''\n",
    "\n",
    "list_01 = list(range(0,10)) # generate a list via range\n",
    "list_02 = []  # blank list\n",
    "\n",
    "for num in list_01:\n",
    "    list_02.append(num*2)\n",
    "\n",
    "print(list_02) # so it will return you square of list\n"
   ]
  },
  {
   "cell_type": "code",
   "execution_count": 23,
   "metadata": {},
   "outputs": [
    {
     "output_type": "execute_result",
     "data": {
      "text/plain": [
       "[0, 2, 4, 6, 8, 10, 12, 14, 16, 18, 20]"
      ]
     },
     "metadata": {},
     "execution_count": 23
    }
   ],
   "source": [
    "# list comprehension\n",
    "\n",
    "'''to understand list comprehension we can say that it is a short way to write the code \n",
    "or for loop statement in 1 line. see the example. \n",
    "'''\n",
    "list_03 = list(range(0,11)) \n",
    "square = [num*2 for num in list_03] # here we print table of 2 via single line comprehension method.\n",
    "square"
   ]
  },
  {
   "cell_type": "code",
   "execution_count": null,
   "metadata": {},
   "outputs": [],
   "source": []
  }
 ]
}