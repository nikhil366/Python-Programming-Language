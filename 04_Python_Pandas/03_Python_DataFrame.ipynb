{
 "metadata": {
  "language_info": {
   "codemirror_mode": {
    "name": "ipython",
    "version": 3
   },
   "file_extension": ".py",
   "mimetype": "text/x-python",
   "name": "python",
   "nbconvert_exporter": "python",
   "pygments_lexer": "ipython3",
   "version": "3.8.5-final"
  },
  "orig_nbformat": 2,
  "kernelspec": {
   "name": "python3",
   "display_name": "Python 3",
   "language": "python"
  }
 },
 "nbformat": 4,
 "nbformat_minor": 2,
 "cells": [
  {
   "cell_type": "code",
   "execution_count": 1,
   "metadata": {},
   "outputs": [],
   "source": [
    "'''Comaprision Operator on DataFrame'''\n",
    "import numpy as np\n",
    "import pandas as pd\n",
    "from numpy.random import randn\n",
    "\n",
    "np.random.seed(101) # for generate diffrent random number"
   ]
  },
  {
   "cell_type": "code",
   "execution_count": 2,
   "metadata": {},
   "outputs": [
    {
     "output_type": "stream",
     "name": "stdout",
     "text": [
      "         01        02        03        04\nA  2.706850  0.628133  0.907969  0.503826\nB  0.651118 -0.319318 -0.848077  0.605965\nC -2.018168  0.740122  0.528813 -0.589001\nD  0.188695 -0.758872 -0.933237  0.955057\nE  0.190794  1.978757  2.605967  0.683509\n"
     ]
    }
   ],
   "source": [
    "df_02 = pd.DataFrame(randn(5,4),['A','B','C','D','E'],['01','02','03','04'])\n",
    "print(df_02)"
   ]
  },
  {
   "cell_type": "code",
   "execution_count": 3,
   "metadata": {},
   "outputs": [
    {
     "output_type": "stream",
     "name": "stdout",
     "text": [
      "      01     02     03     04\nA   True   True   True   True\nB   True  False  False   True\nC  False   True   True  False\nD   True  False  False   True\nE   True   True   True   True\n"
     ]
    },
    {
     "output_type": "execute_result",
     "data": {
      "text/plain": [
       "         01        02        03        04\n",
       "A  2.706850  0.628133  0.907969  0.503826\n",
       "B  0.651118       NaN       NaN  0.605965\n",
       "C       NaN  0.740122  0.528813       NaN\n",
       "D  0.188695       NaN       NaN  0.955057\n",
       "E  0.190794  1.978757  2.605967  0.683509"
      ],
      "text/html": "<div>\n<style scoped>\n    .dataframe tbody tr th:only-of-type {\n        vertical-align: middle;\n    }\n\n    .dataframe tbody tr th {\n        vertical-align: top;\n    }\n\n    .dataframe thead th {\n        text-align: right;\n    }\n</style>\n<table border=\"1\" class=\"dataframe\">\n  <thead>\n    <tr style=\"text-align: right;\">\n      <th></th>\n      <th>01</th>\n      <th>02</th>\n      <th>03</th>\n      <th>04</th>\n    </tr>\n  </thead>\n  <tbody>\n    <tr>\n      <th>A</th>\n      <td>2.706850</td>\n      <td>0.628133</td>\n      <td>0.907969</td>\n      <td>0.503826</td>\n    </tr>\n    <tr>\n      <th>B</th>\n      <td>0.651118</td>\n      <td>NaN</td>\n      <td>NaN</td>\n      <td>0.605965</td>\n    </tr>\n    <tr>\n      <th>C</th>\n      <td>NaN</td>\n      <td>0.740122</td>\n      <td>0.528813</td>\n      <td>NaN</td>\n    </tr>\n    <tr>\n      <th>D</th>\n      <td>0.188695</td>\n      <td>NaN</td>\n      <td>NaN</td>\n      <td>0.955057</td>\n    </tr>\n    <tr>\n      <th>E</th>\n      <td>0.190794</td>\n      <td>1.978757</td>\n      <td>2.605967</td>\n      <td>0.683509</td>\n    </tr>\n  </tbody>\n</table>\n</div>"
     },
     "metadata": {},
     "execution_count": 3
    }
   ],
   "source": [
    "# Comparision\n",
    "\n",
    "bool_df = df_02 > 0  # give boolean\n",
    "print(bool_df) # it will give T or F\n",
    "\n",
    "# for get the original data with T or F\n",
    "df_02[bool_df]"
   ]
  },
  {
   "cell_type": "code",
   "execution_count": 4,
   "metadata": {},
   "outputs": [
    {
     "output_type": "execute_result",
     "data": {
      "text/plain": [
       "A     True\n",
       "B     True\n",
       "C    False\n",
       "D     True\n",
       "E     True\n",
       "Name: 01, dtype: bool"
      ]
     },
     "metadata": {},
     "execution_count": 4
    }
   ],
   "source": [
    "# for check comparision on particular row / column\n",
    "df_02['01'] > 0"
   ]
  },
  {
   "cell_type": "code",
   "execution_count": 5,
   "metadata": {},
   "outputs": [
    {
     "output_type": "stream",
     "name": "stdout",
     "text": [
      "      01     02     03     04\nA   True   True   True   True\nB   True  False  False   True\nC  False   True   True  False\nD   True  False  False   True\nE   True   True   True   True\n"
     ]
    },
    {
     "output_type": "execute_result",
     "data": {
      "text/plain": [
       "         01        02        03        04\n",
       "A  2.706850  0.628133  0.907969  0.503826\n",
       "B  0.651118       NaN       NaN  0.605965\n",
       "C       NaN  0.740122  0.528813       NaN\n",
       "D  0.188695       NaN       NaN  0.955057\n",
       "E  0.190794  1.978757  2.605967  0.683509"
      ],
      "text/html": "<div>\n<style scoped>\n    .dataframe tbody tr th:only-of-type {\n        vertical-align: middle;\n    }\n\n    .dataframe tbody tr th {\n        vertical-align: top;\n    }\n\n    .dataframe thead th {\n        text-align: right;\n    }\n</style>\n<table border=\"1\" class=\"dataframe\">\n  <thead>\n    <tr style=\"text-align: right;\">\n      <th></th>\n      <th>01</th>\n      <th>02</th>\n      <th>03</th>\n      <th>04</th>\n    </tr>\n  </thead>\n  <tbody>\n    <tr>\n      <th>A</th>\n      <td>2.706850</td>\n      <td>0.628133</td>\n      <td>0.907969</td>\n      <td>0.503826</td>\n    </tr>\n    <tr>\n      <th>B</th>\n      <td>0.651118</td>\n      <td>NaN</td>\n      <td>NaN</td>\n      <td>0.605965</td>\n    </tr>\n    <tr>\n      <th>C</th>\n      <td>NaN</td>\n      <td>0.740122</td>\n      <td>0.528813</td>\n      <td>NaN</td>\n    </tr>\n    <tr>\n      <th>D</th>\n      <td>0.188695</td>\n      <td>NaN</td>\n      <td>NaN</td>\n      <td>0.955057</td>\n    </tr>\n    <tr>\n      <th>E</th>\n      <td>0.190794</td>\n      <td>1.978757</td>\n      <td>2.605967</td>\n      <td>0.683509</td>\n    </tr>\n  </tbody>\n</table>\n</div>"
     },
     "metadata": {},
     "execution_count": 5
    }
   ],
   "source": [
    "'''boolean result for the data frame values'''\n",
    "grtr_value = df_02 > 0\n",
    "print(grtr_value)\n",
    "\n",
    "'''if we want original value on the place of boolean then we can do this'''\n",
    "\n",
    "df_02[grtr_value]"
   ]
  },
  {
   "cell_type": "code",
   "execution_count": 6,
   "metadata": {},
   "outputs": [
    {
     "output_type": "execute_result",
     "data": {
      "text/plain": [
       "        01        02        03  04\n",
       "A  2.70685       NaN       NaN NaN\n",
       "B      NaN       NaN       NaN NaN\n",
       "C      NaN       NaN       NaN NaN\n",
       "D      NaN       NaN       NaN NaN\n",
       "E      NaN  1.978757  2.605967 NaN"
      ],
      "text/html": "<div>\n<style scoped>\n    .dataframe tbody tr th:only-of-type {\n        vertical-align: middle;\n    }\n\n    .dataframe tbody tr th {\n        vertical-align: top;\n    }\n\n    .dataframe thead th {\n        text-align: right;\n    }\n</style>\n<table border=\"1\" class=\"dataframe\">\n  <thead>\n    <tr style=\"text-align: right;\">\n      <th></th>\n      <th>01</th>\n      <th>02</th>\n      <th>03</th>\n      <th>04</th>\n    </tr>\n  </thead>\n  <tbody>\n    <tr>\n      <th>A</th>\n      <td>2.70685</td>\n      <td>NaN</td>\n      <td>NaN</td>\n      <td>NaN</td>\n    </tr>\n    <tr>\n      <th>B</th>\n      <td>NaN</td>\n      <td>NaN</td>\n      <td>NaN</td>\n      <td>NaN</td>\n    </tr>\n    <tr>\n      <th>C</th>\n      <td>NaN</td>\n      <td>NaN</td>\n      <td>NaN</td>\n      <td>NaN</td>\n    </tr>\n    <tr>\n      <th>D</th>\n      <td>NaN</td>\n      <td>NaN</td>\n      <td>NaN</td>\n      <td>NaN</td>\n    </tr>\n    <tr>\n      <th>E</th>\n      <td>NaN</td>\n      <td>1.978757</td>\n      <td>2.605967</td>\n      <td>NaN</td>\n    </tr>\n  </tbody>\n</table>\n</div>"
     },
     "metadata": {},
     "execution_count": 6
    }
   ],
   "source": [
    "'''so if you directly apply this method then it will give you result in this form'''\n",
    "df_02[df_02>1] \n"
   ]
  },
  {
   "cell_type": "code",
   "execution_count": 7,
   "metadata": {},
   "outputs": [
    {
     "output_type": "execute_result",
     "data": {
      "text/plain": [
       "         01        02        03        04\n",
       "A  2.706850  0.628133  0.907969  0.503826\n",
       "B  0.651118 -0.319318 -0.848077  0.605965\n",
       "D  0.188695 -0.758872 -0.933237  0.955057\n",
       "E  0.190794  1.978757  2.605967  0.683509"
      ],
      "text/html": "<div>\n<style scoped>\n    .dataframe tbody tr th:only-of-type {\n        vertical-align: middle;\n    }\n\n    .dataframe tbody tr th {\n        vertical-align: top;\n    }\n\n    .dataframe thead th {\n        text-align: right;\n    }\n</style>\n<table border=\"1\" class=\"dataframe\">\n  <thead>\n    <tr style=\"text-align: right;\">\n      <th></th>\n      <th>01</th>\n      <th>02</th>\n      <th>03</th>\n      <th>04</th>\n    </tr>\n  </thead>\n  <tbody>\n    <tr>\n      <th>A</th>\n      <td>2.706850</td>\n      <td>0.628133</td>\n      <td>0.907969</td>\n      <td>0.503826</td>\n    </tr>\n    <tr>\n      <th>B</th>\n      <td>0.651118</td>\n      <td>-0.319318</td>\n      <td>-0.848077</td>\n      <td>0.605965</td>\n    </tr>\n    <tr>\n      <th>D</th>\n      <td>0.188695</td>\n      <td>-0.758872</td>\n      <td>-0.933237</td>\n      <td>0.955057</td>\n    </tr>\n    <tr>\n      <th>E</th>\n      <td>0.190794</td>\n      <td>1.978757</td>\n      <td>2.605967</td>\n      <td>0.683509</td>\n    </tr>\n  </tbody>\n</table>\n</div>"
     },
     "metadata": {},
     "execution_count": 7
    }
   ],
   "source": [
    "'''\n",
    "so here in this example you will see it will return only those row which have value greater then\n",
    "0 it will not return those row which have value less then 0'''\n",
    "df_02[df_02['01']  > 0 ]"
   ]
  },
  {
   "cell_type": "code",
   "execution_count": 8,
   "metadata": {},
   "outputs": [
    {
     "output_type": "execute_result",
     "data": {
      "text/plain": [
       "         01        02        03        04\n",
       "A  2.706850  0.628133  0.907969  0.503826\n",
       "B  0.651118 -0.319318 -0.848077  0.605965\n",
       "C -2.018168  0.740122  0.528813 -0.589001\n",
       "D  0.188695 -0.758872 -0.933237  0.955057\n",
       "E  0.190794  1.978757  2.605967  0.683509"
      ],
      "text/html": "<div>\n<style scoped>\n    .dataframe tbody tr th:only-of-type {\n        vertical-align: middle;\n    }\n\n    .dataframe tbody tr th {\n        vertical-align: top;\n    }\n\n    .dataframe thead th {\n        text-align: right;\n    }\n</style>\n<table border=\"1\" class=\"dataframe\">\n  <thead>\n    <tr style=\"text-align: right;\">\n      <th></th>\n      <th>01</th>\n      <th>02</th>\n      <th>03</th>\n      <th>04</th>\n    </tr>\n  </thead>\n  <tbody>\n    <tr>\n      <th>A</th>\n      <td>2.706850</td>\n      <td>0.628133</td>\n      <td>0.907969</td>\n      <td>0.503826</td>\n    </tr>\n    <tr>\n      <th>B</th>\n      <td>0.651118</td>\n      <td>-0.319318</td>\n      <td>-0.848077</td>\n      <td>0.605965</td>\n    </tr>\n    <tr>\n      <th>C</th>\n      <td>-2.018168</td>\n      <td>0.740122</td>\n      <td>0.528813</td>\n      <td>-0.589001</td>\n    </tr>\n    <tr>\n      <th>D</th>\n      <td>0.188695</td>\n      <td>-0.758872</td>\n      <td>-0.933237</td>\n      <td>0.955057</td>\n    </tr>\n    <tr>\n      <th>E</th>\n      <td>0.190794</td>\n      <td>1.978757</td>\n      <td>2.605967</td>\n      <td>0.683509</td>\n    </tr>\n  </tbody>\n</table>\n</div>"
     },
     "metadata": {},
     "execution_count": 8
    }
   ],
   "source": [
    "df_02"
   ]
  },
  {
   "cell_type": "code",
   "execution_count": 9,
   "metadata": {},
   "outputs": [
    {
     "output_type": "execute_result",
     "data": {
      "text/plain": [
       "         01        02        03        04\n",
       "B  0.651118 -0.319318 -0.848077  0.605965\n",
       "D  0.188695 -0.758872 -0.933237  0.955057"
      ],
      "text/html": "<div>\n<style scoped>\n    .dataframe tbody tr th:only-of-type {\n        vertical-align: middle;\n    }\n\n    .dataframe tbody tr th {\n        vertical-align: top;\n    }\n\n    .dataframe thead th {\n        text-align: right;\n    }\n</style>\n<table border=\"1\" class=\"dataframe\">\n  <thead>\n    <tr style=\"text-align: right;\">\n      <th></th>\n      <th>01</th>\n      <th>02</th>\n      <th>03</th>\n      <th>04</th>\n    </tr>\n  </thead>\n  <tbody>\n    <tr>\n      <th>B</th>\n      <td>0.651118</td>\n      <td>-0.319318</td>\n      <td>-0.848077</td>\n      <td>0.605965</td>\n    </tr>\n    <tr>\n      <th>D</th>\n      <td>0.188695</td>\n      <td>-0.758872</td>\n      <td>-0.933237</td>\n      <td>0.955057</td>\n    </tr>\n  </tbody>\n</table>\n</div>"
     },
     "metadata": {},
     "execution_count": 9
    }
   ],
   "source": [
    "df_02[df_02['02']<0]\n"
   ]
  },
  {
   "cell_type": "code",
   "execution_count": 10,
   "metadata": {},
   "outputs": [
    {
     "output_type": "stream",
     "name": "stdout",
     "text": [
      "         01        02        03        04\nA  2.706850  0.628133  0.907969  0.503826\nB  0.651118 -0.319318 -0.848077  0.605965\nD  0.188695 -0.758872 -0.933237  0.955057\nE  0.190794  1.978757  2.605967  0.683509\n"
     ]
    },
    {
     "output_type": "execute_result",
     "data": {
      "text/plain": [
       "A    2.706850\n",
       "B    0.651118\n",
       "D    0.188695\n",
       "E    0.190794\n",
       "Name: 01, dtype: float64"
      ]
     },
     "metadata": {},
     "execution_count": 10
    }
   ],
   "source": [
    "'''Now suppose if you want to create a dataframe on the basis of selected row and column according to our choice then we can do it in this way'''\n",
    "\n",
    "new_df = df_02[df_02['04'] >0]\n",
    "'''here new_df a new dataframe on the basis of selected  row and column according to our condition'''\n",
    "print(new_df)\n",
    "new_df['01'] # here we can extract a column via new df."
   ]
  },
  {
   "cell_type": "code",
   "execution_count": 11,
   "metadata": {},
   "outputs": [
    {
     "output_type": "execute_result",
     "data": {
      "text/plain": [
       "A    2.70685\n",
       "Name: 01, dtype: float64"
      ]
     },
     "metadata": {},
     "execution_count": 11
    }
   ],
   "source": [
    "'''Now we can do the upper thing in short form in this way'''\n",
    "df_02[df_02['01']>1]['01'] # to  show only one column\n"
   ]
  },
  {
   "cell_type": "code",
   "execution_count": 12,
   "metadata": {},
   "outputs": [
    {
     "output_type": "execute_result",
     "data": {
      "text/plain": [
       "         01        02\n",
       "A  2.706850  0.628133\n",
       "B  0.651118 -0.319318\n",
       "D  0.188695 -0.758872\n",
       "E  0.190794  1.978757"
      ],
      "text/html": "<div>\n<style scoped>\n    .dataframe tbody tr th:only-of-type {\n        vertical-align: middle;\n    }\n\n    .dataframe tbody tr th {\n        vertical-align: top;\n    }\n\n    .dataframe thead th {\n        text-align: right;\n    }\n</style>\n<table border=\"1\" class=\"dataframe\">\n  <thead>\n    <tr style=\"text-align: right;\">\n      <th></th>\n      <th>01</th>\n      <th>02</th>\n    </tr>\n  </thead>\n  <tbody>\n    <tr>\n      <th>A</th>\n      <td>2.706850</td>\n      <td>0.628133</td>\n    </tr>\n    <tr>\n      <th>B</th>\n      <td>0.651118</td>\n      <td>-0.319318</td>\n    </tr>\n    <tr>\n      <th>D</th>\n      <td>0.188695</td>\n      <td>-0.758872</td>\n    </tr>\n    <tr>\n      <th>E</th>\n      <td>0.190794</td>\n      <td>1.978757</td>\n    </tr>\n  </tbody>\n</table>\n</div>"
     },
     "metadata": {},
     "execution_count": 12
    }
   ],
   "source": [
    "df_02[df_02['01']>0][['01','02']]"
   ]
  },
  {
   "cell_type": "code",
   "execution_count": 13,
   "metadata": {},
   "outputs": [
    {
     "output_type": "execute_result",
     "data": {
      "text/plain": [
       "         01        02        03        04\n",
       "A  2.706850  0.628133  0.907969  0.503826\n",
       "B  0.651118 -0.319318 -0.848077  0.605965\n",
       "C -2.018168  0.740122  0.528813 -0.589001\n",
       "D  0.188695 -0.758872 -0.933237  0.955057\n",
       "E  0.190794  1.978757  2.605967  0.683509"
      ],
      "text/html": "<div>\n<style scoped>\n    .dataframe tbody tr th:only-of-type {\n        vertical-align: middle;\n    }\n\n    .dataframe tbody tr th {\n        vertical-align: top;\n    }\n\n    .dataframe thead th {\n        text-align: right;\n    }\n</style>\n<table border=\"1\" class=\"dataframe\">\n  <thead>\n    <tr style=\"text-align: right;\">\n      <th></th>\n      <th>01</th>\n      <th>02</th>\n      <th>03</th>\n      <th>04</th>\n    </tr>\n  </thead>\n  <tbody>\n    <tr>\n      <th>A</th>\n      <td>2.706850</td>\n      <td>0.628133</td>\n      <td>0.907969</td>\n      <td>0.503826</td>\n    </tr>\n    <tr>\n      <th>B</th>\n      <td>0.651118</td>\n      <td>-0.319318</td>\n      <td>-0.848077</td>\n      <td>0.605965</td>\n    </tr>\n    <tr>\n      <th>C</th>\n      <td>-2.018168</td>\n      <td>0.740122</td>\n      <td>0.528813</td>\n      <td>-0.589001</td>\n    </tr>\n    <tr>\n      <th>D</th>\n      <td>0.188695</td>\n      <td>-0.758872</td>\n      <td>-0.933237</td>\n      <td>0.955057</td>\n    </tr>\n    <tr>\n      <th>E</th>\n      <td>0.190794</td>\n      <td>1.978757</td>\n      <td>2.605967</td>\n      <td>0.683509</td>\n    </tr>\n  </tbody>\n</table>\n</div>"
     },
     "metadata": {},
     "execution_count": 13
    }
   ],
   "source": [
    "'''for multiple condition'''\n",
    "df_02"
   ]
  },
  {
   "cell_type": "code",
   "execution_count": 14,
   "metadata": {},
   "outputs": [
    {
     "output_type": "execute_result",
     "data": {
      "text/plain": [
       "         01        02        03        04\n",
       "A  2.706850  0.628133  0.907969  0.503826\n",
       "B  0.651118 -0.319318 -0.848077  0.605965\n",
       "C -2.018168  0.740122  0.528813 -0.589001\n",
       "D  0.188695 -0.758872 -0.933237  0.955057\n",
       "E  0.190794  1.978757  2.605967  0.683509"
      ],
      "text/html": "<div>\n<style scoped>\n    .dataframe tbody tr th:only-of-type {\n        vertical-align: middle;\n    }\n\n    .dataframe tbody tr th {\n        vertical-align: top;\n    }\n\n    .dataframe thead th {\n        text-align: right;\n    }\n</style>\n<table border=\"1\" class=\"dataframe\">\n  <thead>\n    <tr style=\"text-align: right;\">\n      <th></th>\n      <th>01</th>\n      <th>02</th>\n      <th>03</th>\n      <th>04</th>\n    </tr>\n  </thead>\n  <tbody>\n    <tr>\n      <th>A</th>\n      <td>2.706850</td>\n      <td>0.628133</td>\n      <td>0.907969</td>\n      <td>0.503826</td>\n    </tr>\n    <tr>\n      <th>B</th>\n      <td>0.651118</td>\n      <td>-0.319318</td>\n      <td>-0.848077</td>\n      <td>0.605965</td>\n    </tr>\n    <tr>\n      <th>C</th>\n      <td>-2.018168</td>\n      <td>0.740122</td>\n      <td>0.528813</td>\n      <td>-0.589001</td>\n    </tr>\n    <tr>\n      <th>D</th>\n      <td>0.188695</td>\n      <td>-0.758872</td>\n      <td>-0.933237</td>\n      <td>0.955057</td>\n    </tr>\n    <tr>\n      <th>E</th>\n      <td>0.190794</td>\n      <td>1.978757</td>\n      <td>2.605967</td>\n      <td>0.683509</td>\n    </tr>\n  </tbody>\n</table>\n</div>"
     },
     "metadata": {},
     "execution_count": 14
    }
   ],
   "source": [
    "df_02[(df_02['01']>0) | (df_02['04']<0)]"
   ]
  },
  {
   "cell_type": "code",
   "execution_count": 15,
   "metadata": {},
   "outputs": [
    {
     "output_type": "execute_result",
     "data": {
      "text/plain": [
       "  index        01        02        03        04\n",
       "0     A  2.706850  0.628133  0.907969  0.503826\n",
       "1     B  0.651118 -0.319318 -0.848077  0.605965\n",
       "2     C -2.018168  0.740122  0.528813 -0.589001\n",
       "3     D  0.188695 -0.758872 -0.933237  0.955057\n",
       "4     E  0.190794  1.978757  2.605967  0.683509"
      ],
      "text/html": "<div>\n<style scoped>\n    .dataframe tbody tr th:only-of-type {\n        vertical-align: middle;\n    }\n\n    .dataframe tbody tr th {\n        vertical-align: top;\n    }\n\n    .dataframe thead th {\n        text-align: right;\n    }\n</style>\n<table border=\"1\" class=\"dataframe\">\n  <thead>\n    <tr style=\"text-align: right;\">\n      <th></th>\n      <th>index</th>\n      <th>01</th>\n      <th>02</th>\n      <th>03</th>\n      <th>04</th>\n    </tr>\n  </thead>\n  <tbody>\n    <tr>\n      <th>0</th>\n      <td>A</td>\n      <td>2.706850</td>\n      <td>0.628133</td>\n      <td>0.907969</td>\n      <td>0.503826</td>\n    </tr>\n    <tr>\n      <th>1</th>\n      <td>B</td>\n      <td>0.651118</td>\n      <td>-0.319318</td>\n      <td>-0.848077</td>\n      <td>0.605965</td>\n    </tr>\n    <tr>\n      <th>2</th>\n      <td>C</td>\n      <td>-2.018168</td>\n      <td>0.740122</td>\n      <td>0.528813</td>\n      <td>-0.589001</td>\n    </tr>\n    <tr>\n      <th>3</th>\n      <td>D</td>\n      <td>0.188695</td>\n      <td>-0.758872</td>\n      <td>-0.933237</td>\n      <td>0.955057</td>\n    </tr>\n    <tr>\n      <th>4</th>\n      <td>E</td>\n      <td>0.190794</td>\n      <td>1.978757</td>\n      <td>2.605967</td>\n      <td>0.683509</td>\n    </tr>\n  </tbody>\n</table>\n</div>"
     },
     "metadata": {},
     "execution_count": 15
    }
   ],
   "source": [
    "# for a reset a index or a normal index we can do this function\n",
    "'''so via this function we can change the index to numeric index but if you again print df_02\n",
    "then it will come in with normal or previous dataframe'''\n",
    "df_02.reset_index()"
   ]
  },
  {
   "cell_type": "code",
   "execution_count": 16,
   "metadata": {},
   "outputs": [
    {
     "output_type": "execute_result",
     "data": {
      "text/plain": [
       "         01        02        03        04\n",
       "A  2.706850  0.628133  0.907969  0.503826\n",
       "B  0.651118 -0.319318 -0.848077  0.605965\n",
       "C -2.018168  0.740122  0.528813 -0.589001\n",
       "D  0.188695 -0.758872 -0.933237  0.955057\n",
       "E  0.190794  1.978757  2.605967  0.683509"
      ],
      "text/html": "<div>\n<style scoped>\n    .dataframe tbody tr th:only-of-type {\n        vertical-align: middle;\n    }\n\n    .dataframe tbody tr th {\n        vertical-align: top;\n    }\n\n    .dataframe thead th {\n        text-align: right;\n    }\n</style>\n<table border=\"1\" class=\"dataframe\">\n  <thead>\n    <tr style=\"text-align: right;\">\n      <th></th>\n      <th>01</th>\n      <th>02</th>\n      <th>03</th>\n      <th>04</th>\n    </tr>\n  </thead>\n  <tbody>\n    <tr>\n      <th>A</th>\n      <td>2.706850</td>\n      <td>0.628133</td>\n      <td>0.907969</td>\n      <td>0.503826</td>\n    </tr>\n    <tr>\n      <th>B</th>\n      <td>0.651118</td>\n      <td>-0.319318</td>\n      <td>-0.848077</td>\n      <td>0.605965</td>\n    </tr>\n    <tr>\n      <th>C</th>\n      <td>-2.018168</td>\n      <td>0.740122</td>\n      <td>0.528813</td>\n      <td>-0.589001</td>\n    </tr>\n    <tr>\n      <th>D</th>\n      <td>0.188695</td>\n      <td>-0.758872</td>\n      <td>-0.933237</td>\n      <td>0.955057</td>\n    </tr>\n    <tr>\n      <th>E</th>\n      <td>0.190794</td>\n      <td>1.978757</td>\n      <td>2.605967</td>\n      <td>0.683509</td>\n    </tr>\n  </tbody>\n</table>\n</div>"
     },
     "metadata": {},
     "execution_count": 16
    }
   ],
   "source": [
    "df_02"
   ]
  },
  {
   "cell_type": "code",
   "execution_count": 17,
   "metadata": {},
   "outputs": [],
   "source": [
    "'''for change index permanently to numeric we have to use inplace = true'''\n",
    "df_02.reset_index(inplace=True)"
   ]
  },
  {
   "cell_type": "code",
   "execution_count": 18,
   "metadata": {},
   "outputs": [
    {
     "output_type": "execute_result",
     "data": {
      "text/plain": [
       "  index        01        02        03        04\n",
       "0     A  2.706850  0.628133  0.907969  0.503826\n",
       "1     B  0.651118 -0.319318 -0.848077  0.605965\n",
       "2     C -2.018168  0.740122  0.528813 -0.589001\n",
       "3     D  0.188695 -0.758872 -0.933237  0.955057\n",
       "4     E  0.190794  1.978757  2.605967  0.683509"
      ],
      "text/html": "<div>\n<style scoped>\n    .dataframe tbody tr th:only-of-type {\n        vertical-align: middle;\n    }\n\n    .dataframe tbody tr th {\n        vertical-align: top;\n    }\n\n    .dataframe thead th {\n        text-align: right;\n    }\n</style>\n<table border=\"1\" class=\"dataframe\">\n  <thead>\n    <tr style=\"text-align: right;\">\n      <th></th>\n      <th>index</th>\n      <th>01</th>\n      <th>02</th>\n      <th>03</th>\n      <th>04</th>\n    </tr>\n  </thead>\n  <tbody>\n    <tr>\n      <th>0</th>\n      <td>A</td>\n      <td>2.706850</td>\n      <td>0.628133</td>\n      <td>0.907969</td>\n      <td>0.503826</td>\n    </tr>\n    <tr>\n      <th>1</th>\n      <td>B</td>\n      <td>0.651118</td>\n      <td>-0.319318</td>\n      <td>-0.848077</td>\n      <td>0.605965</td>\n    </tr>\n    <tr>\n      <th>2</th>\n      <td>C</td>\n      <td>-2.018168</td>\n      <td>0.740122</td>\n      <td>0.528813</td>\n      <td>-0.589001</td>\n    </tr>\n    <tr>\n      <th>3</th>\n      <td>D</td>\n      <td>0.188695</td>\n      <td>-0.758872</td>\n      <td>-0.933237</td>\n      <td>0.955057</td>\n    </tr>\n    <tr>\n      <th>4</th>\n      <td>E</td>\n      <td>0.190794</td>\n      <td>1.978757</td>\n      <td>2.605967</td>\n      <td>0.683509</td>\n    </tr>\n  </tbody>\n</table>\n</div>"
     },
     "metadata": {},
     "execution_count": 18
    }
   ],
   "source": [
    "df_02"
   ]
  },
  {
   "cell_type": "code",
   "execution_count": 19,
   "metadata": {},
   "outputs": [
    {
     "output_type": "execute_result",
     "data": {
      "text/plain": [
       "['IN', 'NE', 'LV', 'BN', 'CG']"
      ]
     },
     "metadata": {},
     "execution_count": 19
    }
   ],
   "source": [
    "# add new column for index\n",
    "new_index = 'IN NE LV BN CG'.split()\n",
    "new_index"
   ]
  },
  {
   "cell_type": "code",
   "execution_count": 20,
   "metadata": {},
   "outputs": [
    {
     "output_type": "execute_result",
     "data": {
      "text/plain": [
       "  index        01        02        03        04 state\n",
       "0     A  2.706850  0.628133  0.907969  0.503826    IN\n",
       "1     B  0.651118 -0.319318 -0.848077  0.605965    NE\n",
       "2     C -2.018168  0.740122  0.528813 -0.589001    LV\n",
       "3     D  0.188695 -0.758872 -0.933237  0.955057    BN\n",
       "4     E  0.190794  1.978757  2.605967  0.683509    CG"
      ],
      "text/html": "<div>\n<style scoped>\n    .dataframe tbody tr th:only-of-type {\n        vertical-align: middle;\n    }\n\n    .dataframe tbody tr th {\n        vertical-align: top;\n    }\n\n    .dataframe thead th {\n        text-align: right;\n    }\n</style>\n<table border=\"1\" class=\"dataframe\">\n  <thead>\n    <tr style=\"text-align: right;\">\n      <th></th>\n      <th>index</th>\n      <th>01</th>\n      <th>02</th>\n      <th>03</th>\n      <th>04</th>\n      <th>state</th>\n    </tr>\n  </thead>\n  <tbody>\n    <tr>\n      <th>0</th>\n      <td>A</td>\n      <td>2.706850</td>\n      <td>0.628133</td>\n      <td>0.907969</td>\n      <td>0.503826</td>\n      <td>IN</td>\n    </tr>\n    <tr>\n      <th>1</th>\n      <td>B</td>\n      <td>0.651118</td>\n      <td>-0.319318</td>\n      <td>-0.848077</td>\n      <td>0.605965</td>\n      <td>NE</td>\n    </tr>\n    <tr>\n      <th>2</th>\n      <td>C</td>\n      <td>-2.018168</td>\n      <td>0.740122</td>\n      <td>0.528813</td>\n      <td>-0.589001</td>\n      <td>LV</td>\n    </tr>\n    <tr>\n      <th>3</th>\n      <td>D</td>\n      <td>0.188695</td>\n      <td>-0.758872</td>\n      <td>-0.933237</td>\n      <td>0.955057</td>\n      <td>BN</td>\n    </tr>\n    <tr>\n      <th>4</th>\n      <td>E</td>\n      <td>0.190794</td>\n      <td>1.978757</td>\n      <td>2.605967</td>\n      <td>0.683509</td>\n      <td>CG</td>\n    </tr>\n  </tbody>\n</table>\n</div>"
     },
     "metadata": {},
     "execution_count": 20
    }
   ],
   "source": [
    "df_02['state'] =  new_index \n",
    "df_02"
   ]
  },
  {
   "cell_type": "code",
   "execution_count": 21,
   "metadata": {},
   "outputs": [
    {
     "output_type": "execute_result",
     "data": {
      "text/plain": [
       "      index        01        02        03        04\n",
       "state                                              \n",
       "IN        A  2.706850  0.628133  0.907969  0.503826\n",
       "NE        B  0.651118 -0.319318 -0.848077  0.605965\n",
       "LV        C -2.018168  0.740122  0.528813 -0.589001\n",
       "BN        D  0.188695 -0.758872 -0.933237  0.955057\n",
       "CG        E  0.190794  1.978757  2.605967  0.683509"
      ],
      "text/html": "<div>\n<style scoped>\n    .dataframe tbody tr th:only-of-type {\n        vertical-align: middle;\n    }\n\n    .dataframe tbody tr th {\n        vertical-align: top;\n    }\n\n    .dataframe thead th {\n        text-align: right;\n    }\n</style>\n<table border=\"1\" class=\"dataframe\">\n  <thead>\n    <tr style=\"text-align: right;\">\n      <th></th>\n      <th>index</th>\n      <th>01</th>\n      <th>02</th>\n      <th>03</th>\n      <th>04</th>\n    </tr>\n    <tr>\n      <th>state</th>\n      <th></th>\n      <th></th>\n      <th></th>\n      <th></th>\n      <th></th>\n    </tr>\n  </thead>\n  <tbody>\n    <tr>\n      <th>IN</th>\n      <td>A</td>\n      <td>2.706850</td>\n      <td>0.628133</td>\n      <td>0.907969</td>\n      <td>0.503826</td>\n    </tr>\n    <tr>\n      <th>NE</th>\n      <td>B</td>\n      <td>0.651118</td>\n      <td>-0.319318</td>\n      <td>-0.848077</td>\n      <td>0.605965</td>\n    </tr>\n    <tr>\n      <th>LV</th>\n      <td>C</td>\n      <td>-2.018168</td>\n      <td>0.740122</td>\n      <td>0.528813</td>\n      <td>-0.589001</td>\n    </tr>\n    <tr>\n      <th>BN</th>\n      <td>D</td>\n      <td>0.188695</td>\n      <td>-0.758872</td>\n      <td>-0.933237</td>\n      <td>0.955057</td>\n    </tr>\n    <tr>\n      <th>CG</th>\n      <td>E</td>\n      <td>0.190794</td>\n      <td>1.978757</td>\n      <td>2.605967</td>\n      <td>0.683509</td>\n    </tr>\n  </tbody>\n</table>\n</div>"
     },
     "metadata": {},
     "execution_count": 21
    }
   ],
   "source": [
    "# set state as index\n",
    "df_02.set_index('state')"
   ]
  },
  {
   "cell_type": "code",
   "execution_count": null,
   "metadata": {},
   "outputs": [],
   "source": []
  }
 ]
}